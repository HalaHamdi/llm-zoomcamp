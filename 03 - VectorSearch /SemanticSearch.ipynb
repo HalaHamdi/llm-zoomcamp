{
 "cells": [
  {
   "cell_type": "markdown",
   "metadata": {},
   "source": [
    "# This Notebook aims to explain the code step by step for easy reference later on"
   ]
  },
  {
   "cell_type": "markdown",
   "metadata": {},
   "source": [
    "### Set up setp for docker:\n",
    "- Run this command  in your terminal to set up elastic search in docker to help us connect to elastic search locally: \n",
    "  \n",
    "      docker run -it \\\n",
    "        --rm \\\n",
    "        --name elasticsearch \\\n",
    "        -p 9200:9200 \\\n",
    "        -p 9300:9300 \\\n",
    "        -e \"discovery.type=single-node\" \\\n",
    "        -e \"xpack.security.enabled=false\" \\\n",
    "        docker.elastic.co/elasticsearch/elasticsearch:8.4.3\n"
   ]
  },
  {
   "cell_type": "code",
   "execution_count": 13,
   "metadata": {},
   "outputs": [
    {
     "name": "stderr",
     "output_type": "stream",
     "text": [
      "huggingface/tokenizers: The current process just got forked, after parallelism has already been used. Disabling parallelism to avoid deadlocks...\n",
      "To disable this warning, you can either:\n",
      "\t- Avoid using `tokenizers` before the fork if possible\n",
      "\t- Explicitly set the environment variable TOKENIZERS_PARALLELISM=(true | false)\n"
     ]
    },
    {
     "name": "stdout",
     "output_type": "stream",
     "text": [
      "Requirement already satisfied: sentence_transformers==2.7.0 in /usr/local/python/3.10.13/lib/python3.10/site-packages (2.7.0)\n",
      "Requirement already satisfied: numpy==1.26.4 in /usr/local/python/3.10.13/lib/python3.10/site-packages (1.26.4)\n",
      "Requirement already satisfied: torch in /usr/local/python/3.10.13/lib/python3.10/site-packages (2.3.1)\n",
      "Collecting elasticsearch\n",
      "  Downloading elasticsearch-8.14.0-py3-none-any.whl.metadata (7.2 kB)\n",
      "Requirement already satisfied: transformers<5.0.0,>=4.34.0 in /usr/local/python/3.10.13/lib/python3.10/site-packages (from sentence_transformers==2.7.0) (4.42.3)\n",
      "Requirement already satisfied: tqdm in /usr/local/python/3.10.13/lib/python3.10/site-packages (from sentence_transformers==2.7.0) (4.66.4)\n",
      "Requirement already satisfied: scikit-learn in /home/codespace/.local/lib/python3.10/site-packages (from sentence_transformers==2.7.0) (1.5.0)\n",
      "Requirement already satisfied: scipy in /home/codespace/.local/lib/python3.10/site-packages (from sentence_transformers==2.7.0) (1.13.1)\n",
      "Requirement already satisfied: huggingface-hub>=0.15.1 in /usr/local/python/3.10.13/lib/python3.10/site-packages (from sentence_transformers==2.7.0) (0.23.4)\n",
      "Requirement already satisfied: Pillow in /home/codespace/.local/lib/python3.10/site-packages (from sentence_transformers==2.7.0) (10.3.0)\n",
      "Requirement already satisfied: filelock in /home/codespace/.local/lib/python3.10/site-packages (from torch) (3.14.0)\n",
      "Requirement already satisfied: typing-extensions>=4.8.0 in /home/codespace/.local/lib/python3.10/site-packages (from torch) (4.12.0)\n",
      "Requirement already satisfied: sympy in /home/codespace/.local/lib/python3.10/site-packages (from torch) (1.12.1)\n",
      "Requirement already satisfied: networkx in /home/codespace/.local/lib/python3.10/site-packages (from torch) (3.3)\n",
      "Requirement already satisfied: jinja2 in /home/codespace/.local/lib/python3.10/site-packages (from torch) (3.1.4)\n",
      "Requirement already satisfied: fsspec in /home/codespace/.local/lib/python3.10/site-packages (from torch) (2024.5.0)\n",
      "Requirement already satisfied: nvidia-cuda-nvrtc-cu12==12.1.105 in /usr/local/python/3.10.13/lib/python3.10/site-packages (from torch) (12.1.105)\n",
      "Requirement already satisfied: nvidia-cuda-runtime-cu12==12.1.105 in /usr/local/python/3.10.13/lib/python3.10/site-packages (from torch) (12.1.105)\n",
      "Requirement already satisfied: nvidia-cuda-cupti-cu12==12.1.105 in /usr/local/python/3.10.13/lib/python3.10/site-packages (from torch) (12.1.105)\n",
      "Requirement already satisfied: nvidia-cudnn-cu12==8.9.2.26 in /usr/local/python/3.10.13/lib/python3.10/site-packages (from torch) (8.9.2.26)\n",
      "Requirement already satisfied: nvidia-cublas-cu12==12.1.3.1 in /usr/local/python/3.10.13/lib/python3.10/site-packages (from torch) (12.1.3.1)\n",
      "Requirement already satisfied: nvidia-cufft-cu12==11.0.2.54 in /usr/local/python/3.10.13/lib/python3.10/site-packages (from torch) (11.0.2.54)\n",
      "Requirement already satisfied: nvidia-curand-cu12==10.3.2.106 in /usr/local/python/3.10.13/lib/python3.10/site-packages (from torch) (10.3.2.106)\n",
      "Requirement already satisfied: nvidia-cusolver-cu12==11.4.5.107 in /usr/local/python/3.10.13/lib/python3.10/site-packages (from torch) (11.4.5.107)\n",
      "Requirement already satisfied: nvidia-cusparse-cu12==12.1.0.106 in /usr/local/python/3.10.13/lib/python3.10/site-packages (from torch) (12.1.0.106)\n",
      "Requirement already satisfied: nvidia-nccl-cu12==2.20.5 in /usr/local/python/3.10.13/lib/python3.10/site-packages (from torch) (2.20.5)\n",
      "Requirement already satisfied: nvidia-nvtx-cu12==12.1.105 in /usr/local/python/3.10.13/lib/python3.10/site-packages (from torch) (12.1.105)\n",
      "Requirement already satisfied: triton==2.3.1 in /usr/local/python/3.10.13/lib/python3.10/site-packages (from torch) (2.3.1)\n",
      "Requirement already satisfied: nvidia-nvjitlink-cu12 in /usr/local/python/3.10.13/lib/python3.10/site-packages (from nvidia-cusolver-cu12==11.4.5.107->torch) (12.5.82)\n",
      "Collecting elastic-transport<9,>=8.13 (from elasticsearch)\n",
      "  Downloading elastic_transport-8.13.1-py3-none-any.whl.metadata (3.7 kB)\n",
      "Requirement already satisfied: urllib3<3,>=1.26.2 in /usr/local/python/3.10.13/lib/python3.10/site-packages (from elastic-transport<9,>=8.13->elasticsearch) (2.0.7)\n",
      "Requirement already satisfied: certifi in /home/codespace/.local/lib/python3.10/site-packages (from elastic-transport<9,>=8.13->elasticsearch) (2024.2.2)\n",
      "Requirement already satisfied: packaging>=20.9 in /home/codespace/.local/lib/python3.10/site-packages (from huggingface-hub>=0.15.1->sentence_transformers==2.7.0) (24.0)\n",
      "Requirement already satisfied: pyyaml>=5.1 in /home/codespace/.local/lib/python3.10/site-packages (from huggingface-hub>=0.15.1->sentence_transformers==2.7.0) (6.0.1)\n",
      "Requirement already satisfied: requests in /home/codespace/.local/lib/python3.10/site-packages (from huggingface-hub>=0.15.1->sentence_transformers==2.7.0) (2.32.3)\n",
      "Requirement already satisfied: regex!=2019.12.17 in /usr/local/python/3.10.13/lib/python3.10/site-packages (from transformers<5.0.0,>=4.34.0->sentence_transformers==2.7.0) (2024.5.15)\n",
      "Requirement already satisfied: safetensors>=0.4.1 in /usr/local/python/3.10.13/lib/python3.10/site-packages (from transformers<5.0.0,>=4.34.0->sentence_transformers==2.7.0) (0.4.3)\n",
      "Requirement already satisfied: tokenizers<0.20,>=0.19 in /usr/local/python/3.10.13/lib/python3.10/site-packages (from transformers<5.0.0,>=4.34.0->sentence_transformers==2.7.0) (0.19.1)\n",
      "Requirement already satisfied: MarkupSafe>=2.0 in /home/codespace/.local/lib/python3.10/site-packages (from jinja2->torch) (2.1.5)\n",
      "Requirement already satisfied: joblib>=1.2.0 in /home/codespace/.local/lib/python3.10/site-packages (from scikit-learn->sentence_transformers==2.7.0) (1.4.2)\n",
      "Requirement already satisfied: threadpoolctl>=3.1.0 in /home/codespace/.local/lib/python3.10/site-packages (from scikit-learn->sentence_transformers==2.7.0) (3.5.0)\n",
      "Requirement already satisfied: mpmath<1.4.0,>=1.1.0 in /home/codespace/.local/lib/python3.10/site-packages (from sympy->torch) (1.3.0)\n",
      "Requirement already satisfied: charset-normalizer<4,>=2 in /home/codespace/.local/lib/python3.10/site-packages (from requests->huggingface-hub>=0.15.1->sentence_transformers==2.7.0) (3.3.2)\n",
      "Requirement already satisfied: idna<4,>=2.5 in /home/codespace/.local/lib/python3.10/site-packages (from requests->huggingface-hub>=0.15.1->sentence_transformers==2.7.0) (3.7)\n",
      "Downloading elasticsearch-8.14.0-py3-none-any.whl (480 kB)\n",
      "\u001b[2K   \u001b[38;2;114;156;31m━━━━━━━━━━━━━━━━━━━━━━━━━━━━━━━━━━━━━━━━\u001b[0m \u001b[32m480.2/480.2 kB\u001b[0m \u001b[31m11.9 MB/s\u001b[0m eta \u001b[36m0:00:00\u001b[0m[36m0:00:01\u001b[0m\n",
      "\u001b[?25hDownloading elastic_transport-8.13.1-py3-none-any.whl (64 kB)\n",
      "\u001b[2K   \u001b[38;2;114;156;31m━━━━━━━━━━━━━━━━━━━━━━━━━━━━━━━━━━━━━━━━\u001b[0m \u001b[32m64.5/64.5 kB\u001b[0m \u001b[31m1.9 MB/s\u001b[0m eta \u001b[36m0:00:00\u001b[0m\n",
      "\u001b[?25hInstalling collected packages: elastic-transport, elasticsearch\n",
      "Successfully installed elastic-transport-8.13.1 elasticsearch-8.14.0\n",
      "\n",
      "\u001b[1m[\u001b[0m\u001b[34;49mnotice\u001b[0m\u001b[1;39;49m]\u001b[0m\u001b[39;49m A new release of pip is available: \u001b[0m\u001b[31;49m24.0\u001b[0m\u001b[39;49m -> \u001b[0m\u001b[32;49m24.1.2\u001b[0m\n",
      "\u001b[1m[\u001b[0m\u001b[34;49mnotice\u001b[0m\u001b[1;39;49m]\u001b[0m\u001b[39;49m To update, run: \u001b[0m\u001b[32;49mpython3 -m pip install --upgrade pip\u001b[0m\n"
     ]
    }
   ],
   "source": [
    "# if an error occured during installing the sentence_transformers, then\n",
    "# uninstall the below 2 packages\n",
    "# !pip uninstall numpy\n",
    "# !pip uninstall torch\n",
    "!pip install sentence_transformers==2.7.0  numpy==1.26.4 torch elasticsearch"
   ]
  },
  {
   "cell_type": "code",
   "execution_count": 15,
   "metadata": {},
   "outputs": [],
   "source": [
    "import json\n",
    "from sentence_transformers import SentenceTransformer\n",
    "from elasticsearch import Elasticsearch"
   ]
  },
  {
   "cell_type": "markdown",
   "metadata": {},
   "source": [
    "### 1. Prepare the documents "
   ]
  },
  {
   "cell_type": "code",
   "execution_count": 6,
   "metadata": {},
   "outputs": [],
   "source": [
    "with open(\"documents.json\", \"rt\") as f_in:\n",
    "    docs_raw = json.load(f_in)"
   ]
  },
  {
   "cell_type": "code",
   "execution_count": 7,
   "metadata": {},
   "outputs": [
    {
     "name": "stdout",
     "output_type": "stream",
     "text": [
      "text : The purpose of this document is to capture frequently asked technical questions\n",
      "The exact day and hour of the course will be 15th Jan 2024 at 17h00. The course will start with the first  “Office Hours'' live.1\n",
      "Subscribe to course public Google Calendar (it works from Desktop only).\n",
      "Register before the course starts using this link.\n",
      "Join the course Telegram channel with announcements.\n",
      "Don’t forget to register in DataTalks.Club's Slack and join the channel. \n",
      "\n",
      "\n",
      "section : General course-related questions \n",
      "\n",
      "\n",
      "question : Course - When will the course start? \n",
      "\n",
      "\n",
      "course : data-engineering-zoomcamp \n",
      "\n",
      "\n"
     ]
    }
   ],
   "source": [
    "# Elastic Search wants everything to be on the same level \n",
    "# so we process that\n",
    "# the current docs_raw = [{course:\"\",documents:{} } , {course:\"\",documents:{} }..]\n",
    "\n",
    "documents =[] \n",
    "\n",
    "for course_dict in docs_raw:\n",
    "    for doc in course_dict[\"documents\"]:\n",
    "        # put the course name in the dictionay of the documents\n",
    "        #  with a new key called course\n",
    "        doc [\"course\"]= course_dict[\"course\"]\n",
    "        documents.append(doc)\n",
    "\n",
    "# Just for the purpose of understanding the final format of the documents \n",
    "# it is now a list of dicts that has the 4 keys seen below \n",
    "for key in documents[0].keys():\n",
    "    print(f\"{key} : {documents[0][key]} \\n\\n\")\n"
   ]
  },
  {
   "cell_type": "markdown",
   "metadata": {},
   "source": [
    "### 2. Create Embeddings using Pretrained Models"
   ]
  },
  {
   "cell_type": "code",
   "execution_count": 8,
   "metadata": {},
   "outputs": [],
   "source": [
    "# The sentence transformers can help us use pretrained models \n",
    "model = SentenceTransformer(\"all-mpnet-base-v2\")"
   ]
  },
  {
   "cell_type": "code",
   "execution_count": 9,
   "metadata": {},
   "outputs": [
    {
     "data": {
      "text/plain": [
       "array([ 4.44875564e-03, -7.61314258e-02, -3.77468328e-04,  7.52523402e-03,\n",
       "       -3.80979776e-02,  3.80131453e-02, -9.73008294e-03, -5.05397702e-03,\n",
       "       -9.37976502e-03,  1.23887584e-02,  4.91276123e-02,  1.52210230e-02,\n",
       "        3.80008705e-02, -6.41802400e-02,  9.42127407e-03, -5.19749001e-02,\n",
       "        9.08066332e-02,  1.71115622e-02,  1.62125528e-02,  2.98865885e-02,\n",
       "        1.50541600e-03,  8.35078582e-03,  3.78841944e-02, -1.01192761e-02,\n",
       "        6.46108761e-03,  3.97424155e-05, -1.45217031e-02, -1.88468415e-02,\n",
       "       -3.74039710e-02, -1.51667662e-03, -1.02680055e-02, -3.68062854e-02,\n",
       "        2.36677658e-02, -6.46023452e-02,  1.96967039e-06, -5.01107657e-03,\n",
       "       -2.80828192e-03, -1.92073956e-02, -8.65119696e-02,  2.83465385e-02,\n",
       "       -5.38667664e-02,  3.63705941e-02, -2.26468481e-02,  2.87367962e-02,\n",
       "       -1.32342121e-02,  1.08689629e-01,  3.70518453e-02,  3.38802189e-02,\n",
       "       -5.30679226e-02,  3.61782461e-02, -1.35725585e-03, -3.63483503e-02,\n",
       "       -2.78346464e-02, -4.29611541e-02,  6.22852109e-02, -1.31760621e-02,\n",
       "        2.59754639e-02, -2.89893057e-02, -3.39355646e-03,  4.46153991e-02,\n",
       "        1.39321135e-02,  2.04116479e-03, -7.05496408e-03, -1.65024810e-02,\n",
       "        5.11037856e-02, -8.48274864e-03,  3.09230853e-02, -3.13657783e-02,\n",
       "        1.49427541e-02,  7.88819161e-04, -2.69647986e-02, -1.35743329e-02,\n",
       "        5.12808980e-03,  5.47758155e-02,  1.77933704e-02, -6.31736219e-02,\n",
       "       -7.60055380e-03,  4.00866866e-02,  2.16234475e-02,  2.59785056e-02,\n",
       "        5.89326732e-02,  3.34930010e-02,  3.70532386e-02, -1.90875754e-02,\n",
       "       -3.51357646e-02,  2.25646477e-02, -3.98118123e-02,  3.38986032e-02,\n",
       "       -7.17577189e-02,  2.41292566e-02, -5.31343222e-02, -5.12588210e-02,\n",
       "       -1.86028760e-02,  3.14390920e-02,  6.91727782e-03, -1.49233257e-02,\n",
       "       -3.44826058e-02, -7.52133206e-02,  1.22460425e-02, -6.51482195e-02,\n",
       "       -3.46943028e-02, -2.44320706e-02,  4.77564707e-03,  3.01978458e-02,\n",
       "        8.91614705e-03,  2.17016321e-02,  6.44748211e-02,  1.55317653e-02,\n",
       "       -1.00226760e-01,  1.67130679e-02,  1.68080125e-02, -8.20801966e-03,\n",
       "       -7.53223598e-02,  4.89279144e-02, -3.67551297e-02, -3.88860814e-02,\n",
       "       -3.74453850e-02, -1.38245383e-03,  3.49549763e-02,  1.75147820e-02,\n",
       "       -1.03091426e-01, -4.26510163e-02, -4.68537882e-02,  3.98490652e-02,\n",
       "        2.13627089e-02,  5.58629967e-02, -4.25540023e-02,  4.04869504e-02,\n",
       "        9.93849989e-03, -3.05350814e-02, -1.35175558e-02, -8.22863262e-03,\n",
       "        4.96016257e-02,  9.62718390e-03, -6.85464544e-03, -6.44916715e-03,\n",
       "       -9.60805174e-03, -6.88392157e-03,  8.77044909e-03, -1.99788883e-02,\n",
       "        8.53066146e-03, -6.69813976e-02, -2.57641431e-02, -5.93637209e-03,\n",
       "       -3.86203863e-02,  5.66592403e-02,  4.90556583e-02, -5.44358715e-02,\n",
       "        3.92817706e-03,  1.06202476e-02, -1.68559663e-02,  4.27247025e-02,\n",
       "       -1.16832079e-02, -7.33502628e-03,  9.37889796e-03, -1.10297259e-02,\n",
       "        1.17598057e-01, -3.13919261e-02,  1.92383863e-02,  2.76465388e-03,\n",
       "        9.70648415e-03,  3.99258174e-02, -1.46760335e-02, -2.09806091e-03,\n",
       "       -2.27825120e-02, -1.49228908e-02,  1.69682447e-02,  1.22627011e-02,\n",
       "       -9.54919904e-02, -9.82090924e-03, -4.36747484e-02, -5.61765023e-03,\n",
       "       -8.80444795e-03,  1.21029906e-01,  2.58626062e-02, -1.41319809e-02,\n",
       "        1.53732707e-03,  1.86256617e-02, -6.83697015e-02,  1.10619469e-02,\n",
       "       -1.14108650e-02, -3.02100070e-02, -1.61092933e-02,  4.38073650e-02,\n",
       "       -1.63651556e-02,  3.40241492e-02,  4.53946181e-02, -7.54045546e-02,\n",
       "       -4.59316298e-02, -2.91728359e-02, -2.90255733e-02, -7.56422291e-03,\n",
       "       -2.54642940e-03,  8.74034315e-03,  5.44602284e-03,  7.59200566e-03,\n",
       "       -7.40864081e-04,  8.99617672e-02,  1.49827125e-02, -3.31994854e-02,\n",
       "        1.25793684e-02,  2.28542648e-02,  4.37174104e-02, -4.67007048e-03,\n",
       "       -8.67373422e-02, -3.01327417e-03,  1.76792759e-02, -4.72888201e-02,\n",
       "        1.00094251e-01, -8.25959537e-03,  8.60619023e-02,  1.70710906e-02,\n",
       "        2.02421676e-02,  2.99450173e-03,  1.51138040e-04, -1.11793634e-02,\n",
       "        2.73997579e-02, -3.98265012e-02, -2.80009490e-02,  2.67315898e-02,\n",
       "       -1.08644459e-02, -1.47739071e-02,  2.14134529e-02,  1.30068010e-03,\n",
       "        7.50812963e-02, -6.13637492e-02, -3.36529501e-02,  1.15654403e-02,\n",
       "       -1.77596789e-02, -2.72462182e-02,  6.78588543e-03,  1.43768620e-02,\n",
       "        1.92234088e-02,  1.01016080e-02, -4.90033031e-02,  1.63553166e-03,\n",
       "       -1.99177675e-02, -8.72984305e-02, -2.55143717e-02, -7.14839473e-02,\n",
       "       -8.69098702e-04,  2.74433326e-02, -9.61044803e-03, -1.82144661e-02,\n",
       "        4.78225313e-02, -2.23242007e-02,  1.84414759e-02,  1.90749578e-02,\n",
       "        4.43801619e-02, -3.71835195e-02,  1.54339327e-02, -1.89842805e-02,\n",
       "        1.06003936e-02, -7.01273093e-03,  4.90504457e-03, -5.28486706e-02,\n",
       "        2.14952007e-02,  7.25664273e-02, -4.86706244e-03, -3.45974765e-03,\n",
       "       -8.06168653e-03, -2.64344160e-02, -2.82987542e-02,  3.24701928e-02,\n",
       "        7.16583990e-03,  7.61298463e-03,  1.26334541e-02, -4.56992127e-02,\n",
       "       -5.53602539e-02, -2.41478696e-03, -1.39088100e-02,  1.04648909e-02,\n",
       "        6.10605925e-02,  2.69257445e-02, -3.08840331e-02,  3.00576668e-02,\n",
       "        6.73827529e-02, -2.48132255e-02, -2.23443657e-03,  4.58037965e-02,\n",
       "        3.56388316e-02, -2.51682941e-02, -6.28150478e-02, -2.77848030e-03,\n",
       "       -1.29840188e-02,  1.52172020e-03,  5.17804995e-02, -3.82322702e-03,\n",
       "        4.36885245e-02,  4.01268490e-02, -6.86917966e-03, -1.67595372e-02,\n",
       "        2.19932832e-02, -3.64994407e-02,  2.62085628e-02, -1.89452413e-02,\n",
       "       -5.90084447e-03,  3.21838595e-02,  2.13674456e-02,  2.19158381e-02,\n",
       "       -4.51101400e-02, -3.49109732e-02,  3.58978920e-02,  6.94562215e-03,\n",
       "       -9.69508477e-03, -6.14332315e-03, -1.53078896e-03, -6.49876222e-02,\n",
       "        4.08227835e-03,  6.72561768e-03,  3.64274010e-02,  2.59596296e-02,\n",
       "       -2.82816496e-02,  5.71964122e-03, -2.30227131e-02,  2.33747773e-02,\n",
       "       -4.75731455e-02,  4.50513698e-03, -1.91102121e-02, -3.44227580e-03,\n",
       "       -1.04132919e-02, -2.29798071e-02,  6.43933658e-03,  2.57007256e-02,\n",
       "       -4.69697436e-04,  3.12112481e-03,  2.74197496e-02,  2.85547972e-02,\n",
       "        8.80150776e-03,  1.03337402e-02,  1.30621064e-02, -5.52784977e-03,\n",
       "       -3.43346409e-02,  5.30067571e-02,  3.59740737e-03,  4.08417173e-02,\n",
       "       -4.31800038e-02,  1.16473371e-02, -3.23664397e-02,  1.08299702e-02,\n",
       "       -1.96134839e-02, -5.15147522e-02,  2.69990526e-02, -3.19578275e-02,\n",
       "       -5.87780364e-02,  1.01352483e-02, -2.49298895e-03, -1.80677772e-02,\n",
       "       -7.42877126e-02, -3.48061584e-02,  3.23229395e-02,  1.03653269e-02,\n",
       "       -3.26127149e-02, -3.24672051e-02, -4.84117679e-03, -3.18158008e-02,\n",
       "        2.60723457e-02, -1.20572355e-02,  1.46293184e-02, -3.72366607e-02,\n",
       "        7.19814673e-02, -5.39925462e-03, -3.47515717e-02,  6.21618293e-02,\n",
       "        2.68200990e-02, -1.88233722e-02,  8.51418544e-03,  8.46922547e-02,\n",
       "       -6.81598485e-02,  3.53470817e-02,  2.93056145e-02,  8.58515594e-03,\n",
       "       -3.92178036e-02,  6.75132126e-02, -4.52912226e-02,  6.60864264e-02,\n",
       "        2.73945392e-03, -2.36799624e-02,  1.94441655e-03,  3.87054011e-02,\n",
       "        1.54993916e-02, -3.56714539e-02, -1.14294691e-02,  3.78484614e-02,\n",
       "       -2.70610247e-02,  1.66948903e-02,  2.42262464e-02, -6.49655536e-02,\n",
       "       -2.25596275e-04,  1.82503406e-02,  1.03903245e-02, -6.11069351e-02,\n",
       "       -3.39129083e-02,  1.38017181e-02, -1.40008247e-02,  1.87902469e-02,\n",
       "        2.50781197e-02,  1.95101909e-02, -2.46236343e-02,  2.65695155e-04,\n",
       "        7.28972722e-03, -1.54002095e-02,  3.70760001e-02, -1.66010391e-02,\n",
       "       -4.24632616e-03,  5.66271991e-02, -3.79591552e-03,  2.91821398e-02,\n",
       "       -2.41201278e-02,  6.30597025e-02,  3.55714336e-02,  1.69964489e-02,\n",
       "       -6.03751605e-03, -4.27101692e-03,  1.09600350e-02,  4.20778655e-02,\n",
       "       -3.19366865e-02, -8.01743567e-03,  2.87841237e-03, -3.04441508e-02,\n",
       "       -1.43442973e-02, -5.59303947e-02,  4.53079566e-02, -3.26942205e-02,\n",
       "       -1.51269846e-02,  1.10539747e-02, -2.69008186e-02,  1.73278749e-02,\n",
       "        1.43872313e-02, -1.57888103e-02,  1.59338657e-02, -5.02744541e-02,\n",
       "       -3.52967493e-02, -2.51019057e-02, -5.03972219e-03, -7.72213489e-02,\n",
       "       -8.56967270e-03,  2.97201686e-02, -1.15788085e-02, -4.14338820e-02,\n",
       "        1.15093132e-02,  6.44760625e-03,  8.22764859e-02,  6.42385427e-03,\n",
       "        9.23722982e-03,  5.88472299e-02, -1.94093864e-02, -1.44808795e-02,\n",
       "        9.81526822e-03,  4.45898138e-02,  1.79880019e-02, -4.24294313e-03,\n",
       "       -2.83364356e-02,  2.57751364e-02,  7.87746236e-02, -3.18634063e-02,\n",
       "       -1.29408956e-01, -5.17350920e-02,  1.97678357e-02,  2.32646381e-03,\n",
       "        4.93705533e-02,  3.95346135e-02, -4.84365635e-02, -1.09699108e-02,\n",
       "       -3.48872766e-02, -1.49785709e-02,  2.81370850e-03, -2.83530285e-03,\n",
       "        2.15089321e-02,  1.74503177e-02, -5.46416827e-02,  1.21632442e-02,\n",
       "        5.32044051e-03, -2.09831651e-02,  2.30917288e-03,  3.75876948e-02,\n",
       "       -2.59413626e-02, -4.40184064e-02, -2.50859931e-02,  3.78523991e-02,\n",
       "        2.03886572e-02,  2.07815319e-02,  2.45667081e-02,  2.87644025e-02,\n",
       "       -1.51250046e-02, -3.47768627e-02, -1.42153436e-02, -4.43074945e-03,\n",
       "        5.38549572e-03,  1.86809748e-02, -1.92365944e-02,  3.30989286e-02,\n",
       "       -1.30758872e-02,  3.77784520e-02,  3.50008300e-03,  1.31798098e-02,\n",
       "        3.25816944e-02,  4.70204055e-02, -2.76139900e-02, -6.71020076e-02,\n",
       "       -3.72582227e-02,  2.70170160e-02,  1.39051536e-03,  6.05860576e-02,\n",
       "       -4.71448116e-02,  6.82927063e-03,  1.58898011e-02, -5.98153006e-03,\n",
       "        3.04095522e-02,  2.53587905e-02, -4.57278676e-02, -4.87002060e-02,\n",
       "       -2.02828012e-02, -1.66921504e-02,  1.70859229e-02,  3.63195203e-02,\n",
       "        1.51953017e-02, -5.16110994e-02,  5.73745109e-02, -2.42542736e-02,\n",
       "        7.62137258e-03, -5.60670607e-02,  1.56739485e-02, -1.32120131e-02,\n",
       "       -4.84547243e-02,  1.32512236e-02, -1.97822638e-02,  9.68309818e-04,\n",
       "       -5.17852940e-02,  2.93723661e-02, -1.23500181e-02, -3.43572767e-03,\n",
       "       -7.81101882e-02,  1.97163951e-02, -7.10536167e-02,  3.20201777e-02,\n",
       "        3.97354141e-02,  6.05665259e-02,  1.47804068e-02,  4.21864912e-02,\n",
       "        3.99131887e-02, -3.39482017e-02,  3.42736878e-02,  3.17022428e-02,\n",
       "        9.55524445e-02, -9.83432680e-03,  3.61448638e-02,  2.95810848e-02,\n",
       "       -3.38822305e-02, -8.80093724e-02, -4.58671227e-02,  6.76751286e-02,\n",
       "       -7.68146245e-03,  2.50096172e-02,  1.05785113e-02, -7.36045265e-33,\n",
       "       -1.98758934e-02, -3.77452187e-03, -9.02139116e-03,  4.73305546e-02,\n",
       "       -1.83586907e-02, -6.02811202e-03, -6.93144873e-02,  3.13884541e-02,\n",
       "       -2.32766904e-02,  2.10023653e-02, -1.97784118e-02,  2.19457410e-02,\n",
       "        2.97516994e-02, -1.50869712e-02,  5.77884279e-02,  3.10271484e-04,\n",
       "        6.51596040e-02,  4.15357063e-03, -6.27590111e-03, -1.15643824e-02,\n",
       "       -3.69332843e-02, -2.56654806e-02,  3.10698058e-03, -1.42193015e-03,\n",
       "       -3.01556829e-02, -1.07176974e-02, -4.54563014e-02,  2.76909433e-02,\n",
       "       -1.85016394e-02, -4.09504138e-02,  2.35783886e-02, -8.08875076e-03,\n",
       "       -1.25824874e-02, -6.28352240e-02, -2.83789840e-02,  6.55049458e-02,\n",
       "       -5.82056819e-03, -6.15757778e-02, -1.17425043e-02,  5.00671752e-03,\n",
       "       -9.81581435e-02, -2.29883343e-02, -1.36631215e-02, -2.21995953e-02,\n",
       "        2.69540306e-03, -1.31106619e-02, -4.69348533e-03, -1.25418361e-02,\n",
       "        5.96968867e-02, -4.18347195e-02, -3.05907298e-02, -7.95769040e-03,\n",
       "       -5.05030751e-02, -1.66327506e-02, -5.42566460e-03, -3.03963921e-03,\n",
       "       -9.59515106e-03,  9.27245594e-04, -2.84744762e-02,  3.41231637e-02,\n",
       "        6.54813871e-02,  3.52395736e-02, -4.08357754e-02,  2.26946622e-02,\n",
       "       -1.57723464e-02,  2.41153352e-02,  3.25168893e-02,  2.70247040e-03,\n",
       "       -2.64477096e-02,  6.41394556e-02,  3.83958686e-03,  6.56948835e-02,\n",
       "       -2.15397030e-02,  7.21500665e-02,  3.77972168e-03, -5.30116819e-02,\n",
       "       -6.98346123e-02,  1.16367498e-02,  1.32593634e-02,  2.83327885e-02,\n",
       "        1.74057633e-02,  3.63175459e-02, -2.87129432e-02, -3.97080928e-02,\n",
       "       -8.41987040e-03, -2.53540296e-02,  2.90893484e-04,  7.08063245e-02,\n",
       "       -1.49825839e-02,  1.77762024e-02,  2.18604738e-03,  3.91231067e-02,\n",
       "        4.37794626e-02, -4.74351505e-03, -6.72714114e-02,  3.40510346e-02,\n",
       "        1.16178188e-02, -1.40183568e-02, -3.02456226e-02, -4.29499708e-02,\n",
       "       -6.59967512e-02, -1.06643429e-02, -6.26029298e-02, -6.75920211e-03,\n",
       "        2.52644792e-02,  5.97868860e-02,  2.25571766e-02,  2.89230235e-02,\n",
       "       -7.72162005e-02, -2.08734367e-02, -1.46885682e-02, -1.62949320e-02,\n",
       "        7.58024026e-03, -3.65381036e-03, -2.97809429e-02,  5.20933792e-03,\n",
       "        2.73673632e-03,  2.24368256e-02, -4.03537303e-02, -2.92043183e-02,\n",
       "       -1.03429183e-02,  6.54438213e-02, -4.63884026e-02,  9.94946435e-03,\n",
       "        1.10075790e-02,  1.74772460e-02,  3.25774006e-03,  5.39686605e-02,\n",
       "        3.43523212e-02, -4.24496979e-02, -1.48652690e-02, -3.11175566e-02,\n",
       "        2.68689945e-07,  1.51893711e-02,  2.08879504e-02,  1.51439039e-02,\n",
       "        6.58005700e-02,  1.05206473e-02,  8.08667317e-02,  1.36142957e-03,\n",
       "        6.54121302e-03, -3.62844355e-02,  7.16977045e-02,  5.33991493e-02,\n",
       "        5.07133605e-04, -2.78725028e-02, -1.93491653e-02, -4.07044441e-02,\n",
       "        3.29700336e-02, -2.14912426e-02, -7.52369314e-02,  2.12890394e-02,\n",
       "        1.53786072e-03,  6.06415495e-02,  3.73144783e-02,  5.85250258e-02,\n",
       "       -1.82787012e-02,  6.26923330e-03, -3.48060206e-02, -3.63118984e-02,\n",
       "       -5.20942919e-02,  6.48832023e-02,  5.17859012e-02,  9.92011512e-04,\n",
       "        4.91920859e-03, -1.02864075e-02,  9.37828422e-03, -1.98676046e-02,\n",
       "       -5.92642277e-02,  2.12300308e-02,  7.83260614e-02,  1.45440258e-03,\n",
       "        5.26011847e-02, -1.40720289e-02, -3.96346375e-02, -3.54651101e-02,\n",
       "        2.69606430e-03,  2.04370078e-02, -1.48257259e-02,  3.28007936e-02,\n",
       "       -1.97234713e-02,  3.53789330e-02,  6.17457107e-02, -6.85565406e-03,\n",
       "        9.01395082e-02, -4.70812917e-02, -5.67830205e-02,  2.77708918e-02,\n",
       "       -5.21653816e-02,  1.46737006e-02, -6.84968568e-03, -1.54542597e-02,\n",
       "        2.84226760e-02, -2.34342925e-02,  5.96182682e-02, -3.81571730e-03,\n",
       "        1.09640762e-01, -4.19078507e-02,  5.95912524e-02,  1.71544347e-02,\n",
       "        1.57772395e-34,  3.23484391e-02, -2.31989305e-02, -1.07874284e-02,\n",
       "        3.74158612e-03, -2.82793008e-02, -1.74137559e-02,  1.17361201e-02,\n",
       "       -5.25995381e-02,  1.83059629e-02,  3.20217982e-02, -2.03154497e-02],\n",
       "      dtype=float32)"
      ]
     },
     "execution_count": 9,
     "metadata": {},
     "output_type": "execute_result"
    }
   ],
   "source": [
    "# The inference and it gives as output the dense vector\n",
    "model.encode(\"This is a simple sentence\")"
   ]
  },
  {
   "cell_type": "code",
   "execution_count": 11,
   "metadata": {},
   "outputs": [],
   "source": [
    "# create the embeddings for our dataset \n",
    "dense_vectors= []\n",
    "\n",
    "for doc in documents:\n",
    "    doc[\"text_vector\"]= model.encode(doc[\"text\"]).tolist()\n",
    "    dense_vectors.append(doc)"
   ]
  },
  {
   "cell_type": "markdown",
   "metadata": {},
   "source": [
    "### 3. Setup Elastic Search Connection"
   ]
  },
  {
   "cell_type": "code",
   "execution_count": 17,
   "metadata": {},
   "outputs": [
    {
     "data": {
      "text/plain": [
       "ObjectApiResponse({'name': '44e3d539d666', 'cluster_name': 'docker-cluster', 'cluster_uuid': 'NxoZwPyDTqu4Y1GDK0Ik8A', 'version': {'number': '8.4.3', 'build_flavor': 'default', 'build_type': 'docker', 'build_hash': '42f05b9372a9a4a470db3b52817899b99a76ee73', 'build_date': '2022-10-04T07:17:24.662462378Z', 'build_snapshot': False, 'lucene_version': '9.3.0', 'minimum_wire_compatibility_version': '7.17.0', 'minimum_index_compatibility_version': '7.0.0'}, 'tagline': 'You Know, for Search'})"
      ]
     },
     "execution_count": 17,
     "metadata": {},
     "output_type": "execute_result"
    }
   ],
   "source": [
    "es_client = Elasticsearch(\"http://localhost:9200\")\n",
    "es_client.info()"
   ]
  },
  {
   "cell_type": "markdown",
   "metadata": {},
   "source": [
    "### 4. Create Mappings & Index\n",
    "\n",
    "- Mappings: Process of defining how a document & the field it contains are stored & indexed."
   ]
  },
  {
   "cell_type": "code",
   "execution_count": 24,
   "metadata": {},
   "outputs": [
    {
     "data": {
      "text/plain": [
       "768"
      ]
     },
     "execution_count": 24,
     "metadata": {},
     "output_type": "execute_result"
    }
   ],
   "source": [
    "len(documents[0][\"text_vector\"])"
   ]
  },
  {
   "cell_type": "code",
   "execution_count": 25,
   "metadata": {},
   "outputs": [],
   "source": [
    "# Inorder to create an index, you first need to create a mapping \n",
    "# Think of it like a database.In database you need to provide \n",
    "# meta data [e.g: variables, types,etc..] inorder to creat a schema\n",
    "# Also here, you need to create mappings which holds all the meta data\n",
    "\n",
    "index_settings= {\n",
    "    \"settings\":{\n",
    "        \"number_of_shards\":1,\n",
    "        \"number_of_replicas\":0\n",
    "    },\n",
    "    \"mappings\":{\n",
    "        \"properties\":{\n",
    "            \"text\":{\"type\":\"text\"},\n",
    "            \"section\":{\"type\":\"text\"},\n",
    "            \"question\":{\"type\":\"text\"},\n",
    "            \"course\":{\"type\":\"text\"},\n",
    "            \"text_vector\":{\"type\":\"dense_vector\",\n",
    "                          \"dims\":768,\n",
    "                          \"index\":True,\n",
    "                          \"similarity\":\"cosine\"},\n",
    "        }\n",
    "    }  \n",
    "}"
   ]
  },
  {
   "cell_type": "code",
   "execution_count": 27,
   "metadata": {},
   "outputs": [
    {
     "data": {
      "text/plain": [
       "ObjectApiResponse({'acknowledged': True, 'shards_acknowledged': True, 'index': 'course-questions'})"
      ]
     },
     "execution_count": 27,
     "metadata": {},
     "output_type": "execute_result"
    }
   ],
   "source": [
    "# this basically creates the index after we have created the mapping \n",
    "index_name = \"course-questions\"\n",
    "es_client.indices.delete(index = index_name , ignore_unavailable=True) # delete index if it exists  \n",
    "es_client.indices.create(index = index_name , body= index_settings)"
   ]
  },
  {
   "cell_type": "markdown",
   "metadata": {},
   "source": [
    "### 5. Add documents into index \n"
   ]
  },
  {
   "cell_type": "code",
   "execution_count": 28,
   "metadata": {},
   "outputs": [],
   "source": [
    "for doc in dense_vectors:\n",
    "    try:\n",
    "        es_client.index(index=index_name , document=doc)\n",
    "    except Exception as e:\n",
    "        print(e)"
   ]
  },
  {
   "cell_type": "markdown",
   "metadata": {},
   "source": [
    " ### 6. Create end user query\n",
    "\n",
    " - Now, the entire training data is in the vector store\n",
    " - We will now see the stages when a user enters a query/question"
   ]
  },
  {
   "cell_type": "code",
   "execution_count": 30,
   "metadata": {},
   "outputs": [],
   "source": [
    "# first we need to generate the embeddings for the search query \n",
    "# using the way we used in the training dataset\n",
    "user_query=\"windows or mac?\"\n",
    "vector_search_term=model.encode(user_query)"
   ]
  },
  {
   "cell_type": "code",
   "execution_count": 33,
   "metadata": {},
   "outputs": [],
   "source": [
    "# build a query \n",
    "# field : says in which part of the databse should the query search for\n",
    "# k : number of nearest docs \n",
    "# num_candidate : The group of docs that the serach is going to look into \n",
    "query ={\n",
    "    \"field\": \"text_vector\", \n",
    "    \"query_vector\": vector_search_term,\n",
    "    \"k\":5,\n",
    "    \"num_candidates\":10000,\n",
    "}"
   ]
  },
  {
   "cell_type": "code",
   "execution_count": 50,
   "metadata": {},
   "outputs": [
    {
     "data": {
      "text/plain": [
       "[{'_index': 'course-questions',\n",
       "  '_id': '70fjopABIeV2n38tj-XK',\n",
       "  '_score': 0.7147919,\n",
       "  '_source': {'course': 'data-engineering-zoomcamp',\n",
       "   'section': 'General course-related questions',\n",
       "   'text': 'Yes! Linux is ideal but technically it should not matter. Students last year used all 3 OSes successfully'}},\n",
       " {'_index': 'course-questions',\n",
       "  '_id': 'AkfjopABIeV2n38t1-m3',\n",
       "  '_score': 0.61347336,\n",
       "  '_source': {'course': 'mlops-zoomcamp',\n",
       "   'section': 'Module 1: Introduction',\n",
       "   'text': 'If you wish to use WSL on your windows machine, here are the setup instructions:\\nCommand: Sudo apt install wget\\nGet Anaconda download address here. wget <download address>\\nTurn on Docker Desktop WFree Download | AnacondaSL2\\nCommand: git clone <github repository address>\\nVSCODE on WSL\\nJupyter: pip3 install jupyter\\nAdded by Gregory Morris (gwm1980@gmail.com)\\nAll in all softwares at one shop:\\nYou can use anaconda which has all built in services like pycharm, jupyter\\nAdded by Khaja Zaffer (khajazaffer@aln.iseg.ulisboa.pt)\\nFor windows “wsl --install” in Powershell\\nAdded by Vadim Surin (vdmsurin@gmai.com)'}},\n",
       " {'_index': 'course-questions',\n",
       "  '_id': 'w0fjopABIeV2n38tu-cE',\n",
       "  '_score': 0.6055558,\n",
       "  '_source': {'course': 'machine-learning-zoomcamp',\n",
       "   'section': '2. Machine Learning for Regression',\n",
       "   'text': 'That’s normal. We all have different environments: our computers have different versions of OS and different versions of libraries — even different versions of Python.\\nIf it’s the case, just select the option that’s closest to your answer'}},\n",
       " {'_index': 'course-questions',\n",
       "  '_id': 'HEfjopABIeV2n38twujO',\n",
       "  '_score': 0.60289603,\n",
       "  '_source': {'course': 'machine-learning-zoomcamp',\n",
       "   'section': '5. Deploying Machine Learning Models',\n",
       "   'text': 'It is quite simple, and you can follow these instructions here:\\nhttps://www.youtube.com/watch?v=qYlgUDKKK5A&ab_channel=NeuralNine\\nMake sure that you have “Virtual Machine Platform” feature activated in your Windows “Features”. To do that, search “features” in the research bar and see if the checkbox is selected. You also need to make sure that your system (in the bios) is able to virtualize. This is usually the case.\\nIn the Microsoft Store: look for ‘Ubuntu’ or ‘Debian’ (or any linux distribution you want) and install it\\nOnce it is downloaded, open the app and choose a username and a password (secured one). When you type your password, nothing will show in the window, which is normal: the writing is invisible.\\nYou are now inside of your linux system. You can test some commands such as “pwd”. You are not in your Windows system.\\nTo go to your windows system: you need to go back two times with cd ../.. And then go to the “mnt” directory with cd mnt. If you list here your files, you will see your disks. You can move to the desired folder, for example here I moved to the ML_Zoomcamp folder:\\nPython should be already installed but you can check it by running sudo apt install python3 command.\\nYou can make your actual folder your default folder when you open your Ubuntu terminal with this command : echo \"cd ../../mnt/your/folder/path\" >> ~/.bashrc\\nYou can disable bell sounds (when you type something that does not exist for example) by modifying the inputrc file with this command: sudo vim /etc/inputrc\\nYou have to uncomment the set bell-style none line -> to do that, press the “i” keyboard letter (for insert) and go with your keyboard to this line. Delete the # and then press the Escape keyboard touch and finally press “:wq” to write (it saves your modifications) then quit.\\nYou can check that your modifications are taken into account by opening a new terminal (you can pin it to your task bar so you do not have to go to the Microsoft app each time).\\nYou will need to install pip by running this command sudo apt install python3-pip\\nNB: I had this error message when trying to install pipenv (https://github.com/microsoft/WSL/issues/5663):\\n/sbin/ldconfig.real: Can\\'t link /usr/lib/wsl/lib/libnvoptix_loader.so.1 to libnvoptix.so.1\\n/sbin/ldconfig.real: /usr/lib/wsl/lib/libcuda.so.1 is not a symbolic link\\nSo I had to create the following symbolic link:\\nsudo ln -s /usr/lib/wsl/lib/libcuda.so.1 /usr/lib64/libcuda.so\\n(Mélanie Fouesnard)'}},\n",
       " {'_index': 'course-questions',\n",
       "  '_id': '4EfjopABIeV2n38tjuVd',\n",
       "  '_score': 0.5985867,\n",
       "  '_source': {'course': 'data-engineering-zoomcamp',\n",
       "   'section': 'General course-related questions',\n",
       "   'text': 'You can set it up on your laptop or PC if you prefer to work locally from your laptop or PC.\\nYou might face some challenges, especially for Windows users. If you face cnd2\\nIf you prefer to work on the local machine, you may start with the week 1 Introduction to Docker and follow through.\\nHowever, if you prefer to set up a virtual machine, you may start with these first:\\nUsing GitHub Codespaces\\nSetting up the environment on a cloudV Mcodespace\\nI decided to work on a virtual machine because I have different laptops & PCs for my home & office, so I can work on this boot camp virtually anywhere.'}}]"
      ]
     },
     "execution_count": 50,
     "metadata": {},
     "output_type": "execute_result"
    }
   ],
   "source": [
    "# we are ready to search for the user query in the vector db\n",
    "# source: The fields that I want the result to be returned \n",
    "res=es_client.search(index= index_name , knn=query ,\n",
    "                     source=[\"text\",\"section\", \"course\"])\n",
    "\n",
    "res['hits']['hits'] # the result is saved here"
   ]
  },
  {
   "cell_type": "markdown",
   "metadata": {},
   "source": [
    "### 7. Perform Semantic Seach & Advanced Search"
   ]
  },
  {
   "cell_type": "code",
   "execution_count": 64,
   "metadata": {},
   "outputs": [
    {
     "data": {
      "text/plain": [
       "ObjectApiResponse({'took': 4, 'timed_out': False, '_shards': {'total': 1, 'successful': 1, 'skipped': 0, 'failed': 0}, 'hits': {'total': {'value': 0, 'relation': 'eq'}, 'max_score': None, 'hits': []}})"
      ]
     },
     "execution_count": 64,
     "metadata": {},
     "output_type": "execute_result"
    }
   ],
   "source": [
    "# you can add a filter according to a field you need\n",
    "# you can alsom use your regular query search \n",
    "\n",
    "# NOTE: THIS IS NOT A SEMANTIC SEARCH BUT A KEYWORK SEARCH\n",
    "# Because we didnot encode it \n",
    "response =es_client.search(\n",
    "    index= index_name,\n",
    "    query={\n",
    "        \"bool\":{\n",
    "            \"must\":{\n",
    "                \"multi_match\":{\n",
    "                    \"query\":\"windows or python?\",\n",
    "                    \"fields\": [\"text\", \"question\", \"course\",\"title\"],\n",
    "                    \"type\": \"best_fields\"\n",
    "                    \n",
    "                }\n",
    "            },\n",
    "            \"filter\":{\n",
    "                \"term\": {\"course\": \"data-engineering-zoomcamp\"}\n",
    "            }\n",
    "        }\n",
    "    }\n",
    "    \n",
    "    )\n",
    "\n",
    "response"
   ]
  },
  {
   "cell_type": "code",
   "execution_count": 68,
   "metadata": {},
   "outputs": [
    {
     "data": {
      "text/plain": [
       "[]"
      ]
     },
     "execution_count": 68,
     "metadata": {},
     "output_type": "execute_result"
    }
   ],
   "source": [
    "# now we are doing an advanced semantic search\n",
    "\n",
    "query ={\n",
    "    \"field\": \"text_vector\", \n",
    "    \"query_vector\": vector_search_term,\n",
    "    \"k\":5,\n",
    "    \"num_candidates\":10000,\n",
    "}\n",
    "\n",
    "reposnse = es_client.search(\n",
    "    index= index_name,\n",
    "    query= {\n",
    "        \"match\": {\"course\": \"data-engineering-zoomcamp\"}\n",
    "    },\n",
    "    knn= query,\n",
    "    size=5,\n",
    "    explain=True\n",
    ")\n",
    "\n",
    "response[\"hits\"][\"hits\"]"
   ]
  },
  {
   "cell_type": "code",
   "execution_count": null,
   "metadata": {},
   "outputs": [],
   "source": []
  }
 ],
 "metadata": {
  "kernelspec": {
   "display_name": "Python 3 (ipykernel)",
   "language": "python",
   "name": "python3"
  },
  "language_info": {
   "codemirror_mode": {
    "name": "ipython",
    "version": 3
   },
   "file_extension": ".py",
   "mimetype": "text/x-python",
   "name": "python",
   "nbconvert_exporter": "python",
   "pygments_lexer": "ipython3",
   "version": "3.10.13"
  }
 },
 "nbformat": 4,
 "nbformat_minor": 4
}
