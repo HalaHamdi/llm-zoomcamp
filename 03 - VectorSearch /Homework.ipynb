{
 "cells": [
  {
   "cell_type": "code",
   "execution_count": 46,
   "id": "04c9e98f-c1be-4db6-bccf-539c34c540b0",
   "metadata": {},
   "outputs": [],
   "source": [
    "from sentence_transformers import SentenceTransformer\n",
    "from elasticsearch import Elasticsearch\n",
    "from tqdm import tqdm\n",
    "import numpy as np\n",
    "import pandas as pd\n",
    "import requests "
   ]
  },
  {
   "cell_type": "code",
   "execution_count": 28,
   "id": "511a4c02-b02a-4e1d-b913-b832a7af8715",
   "metadata": {},
   "outputs": [],
   "source": [
    "model_name = 'multi-qa-distilbert-cos-v1'\n",
    "embedding_model = SentenceTransformer(model_name)"
   ]
  },
  {
   "cell_type": "markdown",
   "id": "fb5f51ca-53e4-402e-ae59-04da108c53d9",
   "metadata": {},
   "source": [
    "## Q1: What's the first value of the resulting vector?"
   ]
  },
  {
   "cell_type": "code",
   "execution_count": 29,
   "id": "34518369-5175-4836-b9f0-934692fd2448",
   "metadata": {},
   "outputs": [
    {
     "data": {
      "text/plain": [
       "0.078222655"
      ]
     },
     "execution_count": 29,
     "metadata": {},
     "output_type": "execute_result"
    }
   ],
   "source": [
    "user_question = \"I just discovered the course. Can I still join it?\"\n",
    "user_question_embedding=embedding_model.encode(user_question)\n",
    "user_question_embedding[0]"
   ]
  },
  {
   "cell_type": "markdown",
   "id": "c21cdce8-e7ae-4a25-9fc9-f14781a04a58",
   "metadata": {},
   "source": [
    "### Preparing the documents"
   ]
  },
  {
   "cell_type": "code",
   "execution_count": 30,
   "id": "16dd8d5f-d67c-4d68-af8c-73567a7b0b7b",
   "metadata": {},
   "outputs": [],
   "source": [
    "base_url = 'https://github.com/DataTalksClub/llm-zoomcamp/blob/main'\n",
    "relative_url = '03-vector-search/eval/documents-with-ids.json'\n",
    "docs_url = f'{base_url}/{relative_url}?raw=1'\n",
    "docs_response = requests.get(docs_url)\n",
    "documents = docs_response.json()"
   ]
  },
  {
   "cell_type": "code",
   "execution_count": 31,
   "id": "bbe60db2-9ee8-4008-9b06-721253496105",
   "metadata": {},
   "outputs": [
    {
     "name": "stdout",
     "output_type": "stream",
     "text": [
      "375\n"
     ]
    }
   ],
   "source": [
    "course='machine-learning-zoomcamp'\n",
    "course_documents=[doc for doc in documents if doc['course']==course]\n",
    "print(len(course_documents))"
   ]
  },
  {
   "cell_type": "code",
   "execution_count": 34,
   "id": "f749ec85-3037-49af-a897-2ac6b76fdd63",
   "metadata": {},
   "outputs": [
    {
     "data": {
      "text/plain": [
       "{'text': 'Machine Learning Zoomcamp FAQ\\nThe purpose of this document is to capture frequently asked technical questions.\\nWe did this for our data engineering course and it worked quite well. Check this document for inspiration on how to structure your questions and answers:\\nData Engineering Zoomcamp FAQ\\nIn the course GitHub repository there’s a link. Here it is: https://airtable.com/shryxwLd0COOEaqXo\\nwork',\n",
       " 'section': 'General course-related questions',\n",
       " 'question': 'How do I sign up?',\n",
       " 'course': 'machine-learning-zoomcamp',\n",
       " 'id': '0227b872'}"
      ]
     },
     "execution_count": 34,
     "metadata": {},
     "output_type": "execute_result"
    }
   ],
   "source": [
    "course_documents[0]"
   ]
  },
  {
   "cell_type": "markdown",
   "id": "9e9120ed-42c0-426e-b5aa-14028889e9ea",
   "metadata": {},
   "source": [
    "## Q2: What's the shape of X?"
   ]
  },
  {
   "cell_type": "code",
   "execution_count": 32,
   "id": "710f9735-440c-404f-a026-b8db05c3d7fe",
   "metadata": {},
   "outputs": [
    {
     "name": "stderr",
     "output_type": "stream",
     "text": [
      "100%|█████████████████████████████████████████████████████████████████████████████████████████████████████████████████████████████████████████████████████| 375/375 [01:02<00:00,  6.02it/s]\n"
     ]
    },
    {
     "data": {
      "text/plain": [
       "(375, 768)"
      ]
     },
     "execution_count": 32,
     "metadata": {},
     "output_type": "execute_result"
    }
   ],
   "source": [
    "course_documents_embeddings=[]\n",
    "for doc in tqdm(course_documents):\n",
    "    question=doc['question']\n",
    "    answer=doc['text']\n",
    "    qa_text=f'{question} {answer}'\n",
    "    course_documents_embeddings.append(embedding_model.encode(qa_text))\n",
    "\n",
    "X=np.array(course_documents_embeddings)\n",
    "X.shape"
   ]
  },
  {
   "cell_type": "markdown",
   "id": "8c94915a-7bd5-44dc-afdb-a27f0a5b4916",
   "metadata": {},
   "source": [
    "## Q3: What's the highest score in the results?"
   ]
  },
  {
   "cell_type": "code",
   "execution_count": 35,
   "id": "5bb4ab5d-e958-4368-83b0-ff5af54e0579",
   "metadata": {},
   "outputs": [
    {
     "data": {
      "text/plain": [
       "0.6506573"
      ]
     },
     "execution_count": 35,
     "metadata": {},
     "output_type": "execute_result"
    }
   ],
   "source": [
    "scores=X.dot(user_question_embedding)\n",
    "scores.max()"
   ]
  },
  {
   "cell_type": "code",
   "execution_count": 37,
   "id": "2412022a-69bb-419d-b4db-cad5076ba6db",
   "metadata": {},
   "outputs": [],
   "source": [
    "class VectorSearchEngine():\n",
    "    # This documents and the embedding of the documents \n",
    "    def __init__(self, documents, embeddings):\n",
    "        self.documents = documents\n",
    "        self.embeddings = embeddings\n",
    "\n",
    "    # here we pass the embedding of the query \n",
    "    # and return the top \"num_results\"  documents that this query is similary to\n",
    "    def search(self, v_query, num_results=10):\n",
    "        scores = self.embeddings.dot(v_query)\n",
    "        idx = np.argsort(-scores)[:num_results]\n",
    "        return [self.documents[i] for i in idx]\n",
    "    \n",
    "def hit_rate(queries_relevance):\n",
    "    hits=0\n",
    "    for record in queries_relevance:\n",
    "        if True in record:\n",
    "            hits+=1\n",
    "    return hits/len(queries_relevance)"
   ]
  },
  {
   "cell_type": "code",
   "execution_count": 41,
   "id": "4b6f93ab-b021-4908-b0dc-b6a39b357507",
   "metadata": {},
   "outputs": [],
   "source": [
    "search_engine = VectorSearchEngine(documents=course_documents, embeddings=X)\n",
    "result=search_engine.search(user_question_embedding, num_results=5)"
   ]
  },
  {
   "cell_type": "code",
   "execution_count": 42,
   "id": "c6a53dca-c62f-4d2e-af2f-87d54676cff3",
   "metadata": {},
   "outputs": [],
   "source": [
    "# load the ground truth dataset\n",
    "base_url = 'https://github.com/DataTalksClub/llm-zoomcamp/blob/main'\n",
    "relative_url = '03-vector-search/eval/ground-truth-data.csv'\n",
    "ground_truth_url = f'{base_url}/{relative_url}?raw=1'\n",
    "\n",
    "df_ground_truth = pd.read_csv(ground_truth_url)\n",
    "df_ground_truth = df_ground_truth[df_ground_truth.course == 'machine-learning-zoomcamp']\n",
    "ground_truth = df_ground_truth.to_dict(orient='records')"
   ]
  },
  {
   "cell_type": "code",
   "execution_count": 43,
   "id": "f01ab894-cdcf-40cb-913c-f51aa47b53b9",
   "metadata": {},
   "outputs": [
    {
     "data": {
      "text/plain": [
       "{'question': 'Where can I sign up for the course?',\n",
       " 'course': 'machine-learning-zoomcamp',\n",
       " 'document': '0227b872'}"
      ]
     },
     "execution_count": 43,
     "metadata": {},
     "output_type": "execute_result"
    }
   ],
   "source": [
    "ground_truth[0]"
   ]
  },
  {
   "cell_type": "markdown",
   "id": "ee77f359-0a4a-4914-a4a9-cfe078fe6787",
   "metadata": {},
   "source": [
    "## Q4: calculate the hitrate of VectorSearchEngine with num_results=5"
   ]
  },
  {
   "cell_type": "code",
   "execution_count": 44,
   "id": "ee0f4edd-350d-4011-9af3-fe016c5f0d55",
   "metadata": {},
   "outputs": [
    {
     "name": "stderr",
     "output_type": "stream",
     "text": [
      "100%|███████████████████████████████████████████████████████████████████████████████████████████████████████████████████████████████████████████████████| 1830/1830 [01:23<00:00, 21.79it/s]\n"
     ]
    }
   ],
   "source": [
    "# 1.we have initialized the Vector Search with the data-with-ids and its embeddings\n",
    "# 2.we will calculate the relevance and the queries relevance\n",
    "\n",
    "queries_relevance=[]\n",
    "for doc in tqdm(ground_truth):\n",
    "     question=doc['question']\n",
    "     question_id= doc['document']\n",
    "     question_embedding=embedding_model.encode(question)\n",
    "     retrieved_docs=search_engine.search(question_embedding ,num_results=5)\n",
    "     relevance =[question_id == doc['id'] for doc in retrieved_docs]  \n",
    "     queries_relevance.append(relevance)"
   ]
  },
  {
   "cell_type": "code",
   "execution_count": 45,
   "id": "1900a348-488f-43a0-b7a1-19b5abdc03ce",
   "metadata": {},
   "outputs": [
    {
     "data": {
      "text/plain": [
       "0.9398907103825137"
      ]
     },
     "execution_count": 45,
     "metadata": {},
     "output_type": "execute_result"
    }
   ],
   "source": [
    "hit_rate(queries_relevance)"
   ]
  },
  {
   "cell_type": "markdown",
   "id": "72de0145-cd2d-4972-8c01-84ae9d9e709c",
   "metadata": {},
   "source": [
    "### Now let's index these documents with elasticsearch"
   ]
  },
  {
   "cell_type": "code",
   "execution_count": null,
   "id": "6edaa951-3f6e-49ac-934d-cd8e3daa9fb0",
   "metadata": {},
   "outputs": [],
   "source": [
    "es_client= Elasticsearch('http://localhost:9200')"
   ]
  },
  {
   "cell_type": "code",
   "execution_count": null,
   "id": "967af4c4-ca8c-4907-a74d-abd7c575d423",
   "metadata": {},
   "outputs": [],
   "source": [
    "# set the mapping\n",
    "index_settings= {\n",
    "    \"settings\":{\n",
    "        \"number_of_shards\":1,\n",
    "        \"number_of_replicas\":0\n",
    "    },\n",
    "    \"mappings\":{\n",
    "        \"properties\":{\n",
    "            \"text\":{\"type\":\"text\"},\n",
    "            \"section\":{\"type\":\"text\"},\n",
    "            \"question\":{\"type\":\"text\"},\n",
    "            \"course\":{\"type\":\"keyword\"},\n",
    "            \"id\":{\"type\":\"keyword\"},\n",
    "            \"question_vector\":{\"type\":\"dense_vector\",\n",
    "                          \"dims\":768,\n",
    "                          \"index\":True,\n",
    "                          \"similarity\":\"cosine\"},\n",
    "            \"text_vector\":{\"type\":\"dense_vector\",\n",
    "                          \"dims\":768,\n",
    "                          \"index\":True,\n",
    "                          \"similarity\":\"cosine\"},\n",
    "            \"question_text_vector\":{\"type\":\"dense_vector\",\n",
    "                          \"dims\":768,\n",
    "                          \"index\":True,\n",
    "                          \"similarity\":\"cosine\"},\n",
    "        }\n",
    "    }  \n",
    "}"
   ]
  }
 ],
 "metadata": {
  "kernelspec": {
   "display_name": "Python 3 (ipykernel)",
   "language": "python",
   "name": "python3"
  },
  "language_info": {
   "codemirror_mode": {
    "name": "ipython",
    "version": 3
   },
   "file_extension": ".py",
   "mimetype": "text/x-python",
   "name": "python",
   "nbconvert_exporter": "python",
   "pygments_lexer": "ipython3",
   "version": "3.10.13"
  }
 },
 "nbformat": 4,
 "nbformat_minor": 5
}
