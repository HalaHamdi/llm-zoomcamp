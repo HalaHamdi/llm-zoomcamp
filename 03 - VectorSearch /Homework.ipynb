{
 "cells": [
  {
   "cell_type": "code",
   "execution_count": 12,
   "id": "04c9e98f-c1be-4db6-bccf-539c34c540b0",
   "metadata": {},
   "outputs": [],
   "source": [
    "from sentence_transformers import SentenceTransformer\n",
    "import numpy as np\n",
    "import requests "
   ]
  },
  {
   "cell_type": "code",
   "execution_count": 2,
   "id": "511a4c02-b02a-4e1d-b913-b832a7af8715",
   "metadata": {},
   "outputs": [],
   "source": [
    "model_name = 'multi-qa-distilbert-cos-v1'\n",
    "embedding_model = SentenceTransformer(model_name)"
   ]
  },
  {
   "cell_type": "markdown",
   "id": "fb5f51ca-53e4-402e-ae59-04da108c53d9",
   "metadata": {},
   "source": [
    "## Q1: What's the first value of the resulting vector?"
   ]
  },
  {
   "cell_type": "code",
   "execution_count": 5,
   "id": "34518369-5175-4836-b9f0-934692fd2448",
   "metadata": {},
   "outputs": [
    {
     "data": {
      "text/plain": [
       "0.078222655"
      ]
     },
     "execution_count": 5,
     "metadata": {},
     "output_type": "execute_result"
    }
   ],
   "source": [
    "user_question = \"I just discovered the course. Can I still join it?\"\n",
    "embdedding=embedding_model.encode(user_question)\n",
    "embdedding[0]"
   ]
  },
  {
   "cell_type": "markdown",
   "id": "c21cdce8-e7ae-4a25-9fc9-f14781a04a58",
   "metadata": {},
   "source": [
    "### Preparing the documents"
   ]
  },
  {
   "cell_type": "code",
   "execution_count": 16,
   "id": "16dd8d5f-d67c-4d68-af8c-73567a7b0b7b",
   "metadata": {},
   "outputs": [],
   "source": [
    "base_url = 'https://github.com/DataTalksClub/llm-zoomcamp/blob/main'\n",
    "relative_url = '03-vector-search/eval/documents-with-ids.json'\n",
    "docs_url = f'{base_url}/{relative_url}?raw=1'\n",
    "docs_response = requests.get(docs_url)\n",
    "documents = docs_response.json()"
   ]
  },
  {
   "cell_type": "code",
   "execution_count": 17,
   "id": "bbe60db2-9ee8-4008-9b06-721253496105",
   "metadata": {},
   "outputs": [
    {
     "name": "stdout",
     "output_type": "stream",
     "text": [
      "25\n"
     ]
    }
   ],
   "source": [
    "course='machine-learning-zoomcamp'\n",
    "course_documents=[doc for doc in documents if doc['course']==course]\n"
   ]
  },
  {
   "cell_type": "code",
   "execution_count": null,
   "id": "46482296-09dc-44b1-a0a9-a4d8cdd618bd",
   "metadata": {},
   "outputs": [],
   "source": []
  },
  {
   "cell_type": "markdown",
   "id": "9e9120ed-42c0-426e-b5aa-14028889e9ea",
   "metadata": {},
   "source": [
    "## Q2: What's the shape of X?"
   ]
  },
  {
   "cell_type": "code",
   "execution_count": null,
   "id": "710f9735-440c-404f-a026-b8db05c3d7fe",
   "metadata": {},
   "outputs": [],
   "source": []
  }
 ],
 "metadata": {
  "kernelspec": {
   "display_name": "Python 3 (ipykernel)",
   "language": "python",
   "name": "python3"
  },
  "language_info": {
   "codemirror_mode": {
    "name": "ipython",
    "version": 3
   },
   "file_extension": ".py",
   "mimetype": "text/x-python",
   "name": "python",
   "nbconvert_exporter": "python",
   "pygments_lexer": "ipython3",
   "version": "3.10.13"
  }
 },
 "nbformat": 4,
 "nbformat_minor": 5
}
