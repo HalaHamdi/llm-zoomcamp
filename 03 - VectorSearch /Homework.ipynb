{
 "cells": [
  {
   "cell_type": "code",
   "execution_count": 1,
   "id": "04c9e98f-c1be-4db6-bccf-539c34c540b0",
   "metadata": {},
   "outputs": [
    {
     "name": "stderr",
     "output_type": "stream",
     "text": [
      "/usr/local/python/3.10.13/lib/python3.10/site-packages/tqdm/auto.py:21: TqdmWarning: IProgress not found. Please update jupyter and ipywidgets. See https://ipywidgets.readthedocs.io/en/stable/user_install.html\n",
      "  from .autonotebook import tqdm as notebook_tqdm\n"
     ]
    }
   ],
   "source": [
    "from sentence_transformers import SentenceTransformer\n",
    "from elasticsearch import Elasticsearch\n",
    "from tqdm import tqdm\n",
    "import numpy as np\n",
    "import pandas as pd\n",
    "import requests "
   ]
  },
  {
   "cell_type": "code",
   "execution_count": 2,
   "id": "511a4c02-b02a-4e1d-b913-b832a7af8715",
   "metadata": {},
   "outputs": [],
   "source": [
    "model_name = 'multi-qa-distilbert-cos-v1'\n",
    "embedding_model = SentenceTransformer(model_name)"
   ]
  },
  {
   "cell_type": "markdown",
   "id": "fb5f51ca-53e4-402e-ae59-04da108c53d9",
   "metadata": {},
   "source": [
    "## Q1: What's the first value of the resulting vector?"
   ]
  },
  {
   "cell_type": "code",
   "execution_count": 3,
   "id": "34518369-5175-4836-b9f0-934692fd2448",
   "metadata": {},
   "outputs": [
    {
     "data": {
      "text/plain": [
       "0.078222655"
      ]
     },
     "execution_count": 3,
     "metadata": {},
     "output_type": "execute_result"
    }
   ],
   "source": [
    "user_question = \"I just discovered the course. Can I still join it?\"\n",
    "user_question_embedding=embedding_model.encode(user_question)\n",
    "user_question_embedding[0]"
   ]
  },
  {
   "cell_type": "markdown",
   "id": "c21cdce8-e7ae-4a25-9fc9-f14781a04a58",
   "metadata": {},
   "source": [
    "### Preparing the documents"
   ]
  },
  {
   "cell_type": "code",
   "execution_count": 4,
   "id": "16dd8d5f-d67c-4d68-af8c-73567a7b0b7b",
   "metadata": {},
   "outputs": [],
   "source": [
    "base_url = 'https://github.com/DataTalksClub/llm-zoomcamp/blob/main'\n",
    "relative_url = '03-vector-search/eval/documents-with-ids.json'\n",
    "docs_url = f'{base_url}/{relative_url}?raw=1'\n",
    "docs_response = requests.get(docs_url)\n",
    "documents = docs_response.json()"
   ]
  },
  {
   "cell_type": "code",
   "execution_count": 5,
   "id": "bbe60db2-9ee8-4008-9b06-721253496105",
   "metadata": {},
   "outputs": [
    {
     "name": "stdout",
     "output_type": "stream",
     "text": [
      "375\n"
     ]
    }
   ],
   "source": [
    "course='machine-learning-zoomcamp'\n",
    "course_documents=[doc for doc in documents if doc['course']==course]\n",
    "print(len(course_documents))"
   ]
  },
  {
   "cell_type": "code",
   "execution_count": 6,
   "id": "f749ec85-3037-49af-a897-2ac6b76fdd63",
   "metadata": {},
   "outputs": [
    {
     "data": {
      "text/plain": [
       "{'text': 'Machine Learning Zoomcamp FAQ\\nThe purpose of this document is to capture frequently asked technical questions.\\nWe did this for our data engineering course and it worked quite well. Check this document for inspiration on how to structure your questions and answers:\\nData Engineering Zoomcamp FAQ\\nIn the course GitHub repository there’s a link. Here it is: https://airtable.com/shryxwLd0COOEaqXo\\nwork',\n",
       " 'section': 'General course-related questions',\n",
       " 'question': 'How do I sign up?',\n",
       " 'course': 'machine-learning-zoomcamp',\n",
       " 'id': '0227b872'}"
      ]
     },
     "execution_count": 6,
     "metadata": {},
     "output_type": "execute_result"
    }
   ],
   "source": [
    "course_documents[0]"
   ]
  },
  {
   "cell_type": "markdown",
   "id": "9e9120ed-42c0-426e-b5aa-14028889e9ea",
   "metadata": {},
   "source": [
    "## Q2: What's the shape of X?"
   ]
  },
  {
   "cell_type": "code",
   "execution_count": 7,
   "id": "710f9735-440c-404f-a026-b8db05c3d7fe",
   "metadata": {},
   "outputs": [
    {
     "name": "stderr",
     "output_type": "stream",
     "text": [
      "100%|███████████████████████████████████████████████████████████████████████████████████████████████████████████████████████████████████████████████████| 375/375 [01:06<00:00,  5.67it/s]\n"
     ]
    },
    {
     "data": {
      "text/plain": [
       "(375, 768)"
      ]
     },
     "execution_count": 7,
     "metadata": {},
     "output_type": "execute_result"
    }
   ],
   "source": [
    "course_documents_embeddings=[]\n",
    "for doc in tqdm(course_documents):\n",
    "    question=doc['question']\n",
    "    answer=doc['text']\n",
    "    qa_text=f'{question} {answer}'\n",
    "    course_documents_embeddings.append(embedding_model.encode(qa_text))\n",
    "\n",
    "X=np.array(course_documents_embeddings)\n",
    "X.shape"
   ]
  },
  {
   "cell_type": "markdown",
   "id": "8c94915a-7bd5-44dc-afdb-a27f0a5b4916",
   "metadata": {},
   "source": [
    "## Q3: What's the highest score in the results?"
   ]
  },
  {
   "cell_type": "code",
   "execution_count": 8,
   "id": "5bb4ab5d-e958-4368-83b0-ff5af54e0579",
   "metadata": {},
   "outputs": [
    {
     "data": {
      "text/plain": [
       "0.6506573"
      ]
     },
     "execution_count": 8,
     "metadata": {},
     "output_type": "execute_result"
    }
   ],
   "source": [
    "scores=X.dot(user_question_embedding)\n",
    "scores.max()"
   ]
  },
  {
   "cell_type": "code",
   "execution_count": 9,
   "id": "2412022a-69bb-419d-b4db-cad5076ba6db",
   "metadata": {},
   "outputs": [],
   "source": [
    "class VectorSearchEngine():\n",
    "    # This documents and the embedding of the documents \n",
    "    def __init__(self, documents, embeddings):\n",
    "        self.documents = documents\n",
    "        self.embeddings = embeddings\n",
    "\n",
    "    # here we pass the embedding of the query \n",
    "    # and return the top \"num_results\"  documents that this query is similary to\n",
    "    def search(self, v_query, num_results=10):\n",
    "        scores = self.embeddings.dot(v_query)\n",
    "        idx = np.argsort(-scores)[:num_results]\n",
    "        return [self.documents[i] for i in idx]\n",
    "    \n",
    "def hit_rate(queries_relevance):\n",
    "    hits=0\n",
    "    for record in queries_relevance:\n",
    "        if True in record:\n",
    "            hits+=1\n",
    "    return hits/len(queries_relevance)"
   ]
  },
  {
   "cell_type": "code",
   "execution_count": 10,
   "id": "4b6f93ab-b021-4908-b0dc-b6a39b357507",
   "metadata": {},
   "outputs": [],
   "source": [
    "search_engine = VectorSearchEngine(documents=course_documents, embeddings=X)\n",
    "result=search_engine.search(user_question_embedding, num_results=5)"
   ]
  },
  {
   "cell_type": "code",
   "execution_count": 11,
   "id": "c6a53dca-c62f-4d2e-af2f-87d54676cff3",
   "metadata": {},
   "outputs": [],
   "source": [
    "# load the ground truth dataset\n",
    "base_url = 'https://github.com/DataTalksClub/llm-zoomcamp/blob/main'\n",
    "relative_url = '03-vector-search/eval/ground-truth-data.csv'\n",
    "ground_truth_url = f'{base_url}/{relative_url}?raw=1'\n",
    "\n",
    "df_ground_truth = pd.read_csv(ground_truth_url)\n",
    "df_ground_truth = df_ground_truth[df_ground_truth.course == 'machine-learning-zoomcamp']\n",
    "ground_truth = df_ground_truth.to_dict(orient='records')"
   ]
  },
  {
   "cell_type": "code",
   "execution_count": 12,
   "id": "f01ab894-cdcf-40cb-913c-f51aa47b53b9",
   "metadata": {},
   "outputs": [
    {
     "data": {
      "text/plain": [
       "{'question': 'Where can I sign up for the course?',\n",
       " 'course': 'machine-learning-zoomcamp',\n",
       " 'document': '0227b872'}"
      ]
     },
     "execution_count": 12,
     "metadata": {},
     "output_type": "execute_result"
    }
   ],
   "source": [
    "ground_truth[0]"
   ]
  },
  {
   "cell_type": "markdown",
   "id": "ee77f359-0a4a-4914-a4a9-cfe078fe6787",
   "metadata": {},
   "source": [
    "## Q4: calculate the hitrate of VectorSearchEngine with num_results=5"
   ]
  },
  {
   "cell_type": "code",
   "execution_count": 13,
   "id": "ee0f4edd-350d-4011-9af3-fe016c5f0d55",
   "metadata": {},
   "outputs": [
    {
     "name": "stderr",
     "output_type": "stream",
     "text": [
      "100%|█████████████████████████████████████████████████████████████████████████████████████████████████████████████████████████████████████████████████| 1830/1830 [01:32<00:00, 19.81it/s]\n"
     ]
    }
   ],
   "source": [
    "# 1.we have initialized the Vector Search with the data-with-ids and its embeddings\n",
    "# 2.we will calculate the relevance and the queries relevance\n",
    "\n",
    "queries_relevance=[]\n",
    "for doc in tqdm(ground_truth):\n",
    "     question=doc['question']\n",
    "     question_id= doc['document']\n",
    "     question_embedding=embedding_model.encode(question)\n",
    "     retrieved_docs=search_engine.search(question_embedding ,num_results=5)\n",
    "     relevance =[question_id == doc['id'] for doc in retrieved_docs]  \n",
    "     queries_relevance.append(relevance)"
   ]
  },
  {
   "cell_type": "code",
   "execution_count": 14,
   "id": "1900a348-488f-43a0-b7a1-19b5abdc03ce",
   "metadata": {},
   "outputs": [
    {
     "data": {
      "text/plain": [
       "0.9398907103825137"
      ]
     },
     "execution_count": 14,
     "metadata": {},
     "output_type": "execute_result"
    }
   ],
   "source": [
    "hit_rate(queries_relevance)"
   ]
  },
  {
   "cell_type": "markdown",
   "id": "72de0145-cd2d-4972-8c01-84ae9d9e709c",
   "metadata": {},
   "source": [
    "### Now let's index these documents with elasticsearch"
   ]
  },
  {
   "cell_type": "code",
   "execution_count": 15,
   "id": "6edaa951-3f6e-49ac-934d-cd8e3daa9fb0",
   "metadata": {},
   "outputs": [],
   "source": [
    "es_client= Elasticsearch('http://localhost:9200')"
   ]
  },
  {
   "cell_type": "code",
   "execution_count": 16,
   "id": "967af4c4-ca8c-4907-a74d-abd7c575d423",
   "metadata": {},
   "outputs": [],
   "source": [
    "# set the mapping\n",
    "index_settings= {\n",
    "    \"settings\":{\n",
    "        \"number_of_shards\":1,\n",
    "        \"number_of_replicas\":0\n",
    "    },\n",
    "    \"mappings\":{\n",
    "        \"properties\":{\n",
    "            \"text\":{\"type\":\"text\"},\n",
    "            \"section\":{\"type\":\"text\"},\n",
    "            \"question\":{\"type\":\"text\"},\n",
    "            \"course\":{\"type\":\"keyword\"},\n",
    "            \"id\":{\"type\":\"keyword\"},\n",
    "            \"question_vector\":{\"type\":\"dense_vector\",\n",
    "                          \"dims\":768,\n",
    "                          \"index\":True,\n",
    "                          \"similarity\":\"cosine\"},\n",
    "            \"text_vector\":{\"type\":\"dense_vector\",\n",
    "                          \"dims\":768,\n",
    "                          \"index\":True,\n",
    "                          \"similarity\":\"cosine\"},\n",
    "            \"question_text_vector\":{\"type\":\"dense_vector\",\n",
    "                          \"dims\":768,\n",
    "                          \"index\":True,\n",
    "                          \"similarity\":\"cosine\"},\n",
    "        }\n",
    "    }  \n",
    "}"
   ]
  },
  {
   "cell_type": "code",
   "execution_count": 17,
   "id": "152a0373-91ed-4133-9724-90ed71f01c9b",
   "metadata": {},
   "outputs": [
    {
     "data": {
      "text/plain": [
       "ObjectApiResponse({'acknowledged': True, 'shards_acknowledged': True, 'index': 'course-questions'})"
      ]
     },
     "execution_count": 17,
     "metadata": {},
     "output_type": "execute_result"
    }
   ],
   "source": [
    "# create the index after we have created the mapping \n",
    "index_name = \"course-questions\"\n",
    "es_client.indices.delete(index = index_name , ignore_unavailable=True) # delete index if it exists  \n",
    "es_client.indices.create(index = index_name , body= index_settings)"
   ]
  },
  {
   "cell_type": "code",
   "execution_count": 18,
   "id": "ebb76ec5-94c9-4eec-8c64-331e4ab9d710",
   "metadata": {},
   "outputs": [
    {
     "data": {
      "text/plain": [
       "{'text': 'Machine Learning Zoomcamp FAQ\\nThe purpose of this document is to capture frequently asked technical questions.\\nWe did this for our data engineering course and it worked quite well. Check this document for inspiration on how to structure your questions and answers:\\nData Engineering Zoomcamp FAQ\\nIn the course GitHub repository there’s a link. Here it is: https://airtable.com/shryxwLd0COOEaqXo\\nwork',\n",
       " 'section': 'General course-related questions',\n",
       " 'question': 'How do I sign up?',\n",
       " 'course': 'machine-learning-zoomcamp',\n",
       " 'id': '0227b872'}"
      ]
     },
     "execution_count": 18,
     "metadata": {},
     "output_type": "execute_result"
    }
   ],
   "source": [
    "course_documents[0]"
   ]
  },
  {
   "cell_type": "code",
   "execution_count": 20,
   "id": "942b1449-8a02-4e25-bce4-f1eb9e306c31",
   "metadata": {},
   "outputs": [
    {
     "name": "stderr",
     "output_type": "stream",
     "text": [
      "100%|███████████████████████████████████████████████████████████████████████████████████████████████████████████████████████████████████████████████████| 375/375 [02:28<00:00,  2.52it/s]\n"
     ]
    }
   ],
   "source": [
    "# create embeddings for the data & put it in the db\n",
    "for doc in tqdm(course_documents):\n",
    "    question=doc['question']\n",
    "    text=doc['text']\n",
    "    question_text= question +' '+text\n",
    "\n",
    "    doc['question_vector']= embedding_model.encode(question)\n",
    "    doc['text_vector']= embedding_model.encode(text)\n",
    "    doc['question_text_vector']= embedding_model.encode(question_text)\n",
    "\n",
    "    es_client.index(index= index_name, document=doc)"
   ]
  },
  {
   "cell_type": "markdown",
   "id": "c22ca5a5-ad32-4385-b1f9-9ae889e737fc",
   "metadata": {},
   "source": [
    "## Q5: Indexing with Elasticsearch: What is the ID with the highest score"
   ]
  },
  {
   "cell_type": "code",
   "execution_count": 22,
   "id": "76ef3cfe-58f1-4065-910e-f1b591a60767",
   "metadata": {},
   "outputs": [
    {
     "data": {
      "text/plain": [
       "{'_index': 'course-questions',\n",
       " '_id': '9oCBwZABJrY4uIZmF1yO',\n",
       " '_score': 0.96726,\n",
       " '_source': {'question': 'The course has already started. Can I still join it?',\n",
       "  'course': 'machine-learning-zoomcamp',\n",
       "  'section': 'General course-related questions',\n",
       "  'text': 'Yes, you can. You won’t be able to submit some of the homeworks, but you can still take part in the course.\\nIn order to get a certificate, you need to submit 2 out of 3 course projects and review 3 peers’ Projects by the deadline. It means that if you join the course at the end of November and manage to work on two projects, you will still be eligible for a certificate.',\n",
       "  'id': 'ee58a693'}}"
      ]
     },
     "execution_count": 22,
     "metadata": {},
     "output_type": "execute_result"
    }
   ],
   "source": [
    "# construct search query\n",
    "query ={\n",
    "    \"field\": \"question_vector\", \n",
    "    \"query_vector\": user_question_embedding,\n",
    "    \"k\":5,\n",
    "    \"num_candidates\":10000,\n",
    "    \"filter\":{\n",
    "        \"term\":{\n",
    "            \"course\":course\n",
    "        }\n",
    "    }\n",
    "}\n",
    "res=es_client.search(index= index_name , knn=query ,\n",
    "                     source=[\"text\",\"section\", \"question\",\"course\", \"id\"])\n",
    "res['hits']['hits'][0]"
   ]
  },
  {
   "cell_type": "code",
   "execution_count": 28,
   "id": "bea735f4-9224-4f0c-b2be-b5ed2959cac9",
   "metadata": {},
   "outputs": [],
   "source": [
    "def elastic_search_knn(field,vector,course):\n",
    "    query ={\n",
    "        \"field\": field, \n",
    "        \"query_vector\": vector,\n",
    "        \"k\":5,\n",
    "        \"num_candidates\":10000,\n",
    "        \"filter\":{\n",
    "            \"term\":{\n",
    "                \"course\":course\n",
    "            }\n",
    "        }\n",
    "    }\n",
    "\n",
    "    res=es_client.search(index= index_name , knn=query ,\n",
    "                     source=[\"text\",\"section\", \"question\",\"course\", \"id\"])\n",
    "\n",
    "    res_doc=[]\n",
    "    for hit in res['hits']['hits']:\n",
    "        res_doc.append(hit['_source'])\n",
    "\n",
    "    return res_doc\n",
    "\n",
    "def question_vector_knn(q,field):\n",
    "    question = q['question']\n",
    "    course= q['course']\n",
    "\n",
    "    embeddings= embedding_model.encode(question)\n",
    "    return elastic_search_knn(field=field, \n",
    "                   vector= embeddings,\n",
    "                   course=course)"
   ]
  },
  {
   "cell_type": "code",
   "execution_count": 29,
   "id": "46412aa4-e358-43f1-ac66-7098ce2db319",
   "metadata": {},
   "outputs": [],
   "source": [
    "def evaluate(ground_truth,search_function,field):\n",
    "    relevance_total = []\n",
    "\n",
    "    for q in tqdm(ground_truth):\n",
    "        doc_id = q['document']\n",
    "        results = search_function(q,field)\n",
    "        relevance = [d['id'] == doc_id for d in results]\n",
    "        relevance_total.append(relevance)\n",
    "\n",
    "    return {\n",
    "        'hit_rate': hit_rate(relevance_total),\n",
    "    }"
   ]
  },
  {
   "cell_type": "code",
   "execution_count": null,
   "id": "ffce7d71-ab92-4dec-bea3-917fcfcfc488",
   "metadata": {},
   "outputs": [
    {
     "name": "stderr",
     "output_type": "stream",
     "text": [
      " 21%|██████████████████████████████▍                                                                                                                   | 381/1830 [00:19<01:07, 21.42it/s]"
     ]
    }
   ],
   "source": [
    "evaluate(ground_truth, question_vector_knn, \"question_text_vector\")"
   ]
  },
  {
   "cell_type": "code",
   "execution_count": null,
   "id": "c9dba64d-5ee3-48b3-9a7d-78a09d975f30",
   "metadata": {},
   "outputs": [],
   "source": []
  }
 ],
 "metadata": {
  "kernelspec": {
   "display_name": "Python 3 (ipykernel)",
   "language": "python",
   "name": "python3"
  },
  "language_info": {
   "codemirror_mode": {
    "name": "ipython",
    "version": 3
   },
   "file_extension": ".py",
   "mimetype": "text/x-python",
   "name": "python",
   "nbconvert_exporter": "python",
   "pygments_lexer": "ipython3",
   "version": "3.10.13"
  }
 },
 "nbformat": 4,
 "nbformat_minor": 5
}
