{
 "cells": [
  {
   "cell_type": "markdown",
   "id": "3938b00c-ca36-46fc-aab0-a48eb5bd0ab4",
   "metadata": {},
   "source": [
    "## In this notebook we are going to evaluate retrival that are using vector search so basically combining the previous 2 notbooks"
   ]
  },
  {
   "cell_type": "code",
   "execution_count": 35,
   "id": "4bd7fed5-8deb-425d-91b3-8b3c85922060",
   "metadata": {},
   "outputs": [],
   "source": [
    "import json\n",
    "import pandas as pd\n",
    "from tqdm import tqdm\n",
    "from elasticsearch import Elasticsearch\n",
    "from sentence_transformers import SentenceTransformer"
   ]
  },
  {
   "cell_type": "code",
   "execution_count": 13,
   "id": "6e4a0e65-80d5-4d48-8c9a-3c3734aa7937",
   "metadata": {},
   "outputs": [],
   "source": [
    "# 1. read data\n",
    "with open('data-with-ids.json', 'rt') as f_in:\n",
    "    documents = json.load(f_in)"
   ]
  },
  {
   "cell_type": "code",
   "execution_count": 8,
   "id": "a66794c6-8de3-44f6-8fb5-5da6e2d2cf28",
   "metadata": {},
   "outputs": [],
   "source": [
    "#initialize the vector db and the embeddings model\n",
    "model_name ='multi-qa-MiniLM-L6-cos-v1'\n",
    "model = SentenceTransformer(model_name)\n",
    "es_client= Elasticsearch('http://localhost:9200')"
   ]
  },
  {
   "cell_type": "code",
   "execution_count": 9,
   "id": "c8629d83-f024-4d71-bf19-d18c4bda088f",
   "metadata": {},
   "outputs": [],
   "source": [
    "# set the mapping\n",
    "index_settings= {\n",
    "    \"settings\":{\n",
    "        \"number_of_shards\":1,\n",
    "        \"number_of_replicas\":0\n",
    "    },\n",
    "    \"mappings\":{\n",
    "        \"properties\":{\n",
    "            \"text\":{\"type\":\"text\"},\n",
    "            \"section\":{\"type\":\"text\"},\n",
    "            \"question\":{\"type\":\"text\"},\n",
    "            \"course\":{\"type\":\"keyword\"},\n",
    "            \"id\":{\"type\":\"keyword\"},\n",
    "            \"question_vector\":{\"type\":\"dense_vector\",\n",
    "                          \"dims\":384,\n",
    "                          \"index\":True,\n",
    "                          \"similarity\":\"cosine\"},\n",
    "            \"text_vector\":{\"type\":\"dense_vector\",\n",
    "                          \"dims\":384,\n",
    "                          \"index\":True,\n",
    "                          \"similarity\":\"cosine\"},\n",
    "            \"question_text_vector\":{\"type\":\"dense_vector\",\n",
    "                          \"dims\":384,\n",
    "                          \"index\":True,\n",
    "                          \"similarity\":\"cosine\"},\n",
    "        }\n",
    "    }  \n",
    "}"
   ]
  },
  {
   "cell_type": "code",
   "execution_count": 11,
   "id": "d29fc494-31f6-4119-8475-f4103a26d77f",
   "metadata": {},
   "outputs": [
    {
     "data": {
      "text/plain": [
       "ObjectApiResponse({'acknowledged': True, 'shards_acknowledged': True, 'index': 'course-questions'})"
      ]
     },
     "execution_count": 11,
     "metadata": {},
     "output_type": "execute_result"
    }
   ],
   "source": [
    "# create the index after we have created the mapping \n",
    "index_name = \"course-questions\"\n",
    "es_client.indices.delete(index = index_name , ignore_unavailable=True) # delete index if it exists  \n",
    "es_client.indices.create(index = index_name , body= index_settings)"
   ]
  },
  {
   "cell_type": "code",
   "execution_count": 15,
   "id": "98ab45d5-7695-46b1-b56a-cebb4f125f66",
   "metadata": {},
   "outputs": [
    {
     "data": {
      "text/plain": [
       "{'text': \"The purpose of this document is to capture frequently asked technical questions\\nThe exact day and hour of the course will be 15th Jan 2024 at 17h00. The course will start with the first  “Office Hours'' live.1\\nSubscribe to course public Google Calendar (it works from Desktop only).\\nRegister before the course starts using this link.\\nJoin the course Telegram channel with announcements.\\nDon’t forget to register in DataTalks.Club's Slack and join the channel.\",\n",
       " 'section': 'General course-related questions',\n",
       " 'question': 'Course - When will the course start?',\n",
       " 'course': 'data-engineering-zoomcamp',\n",
       " 'id': 'c02e79ef'}"
      ]
     },
     "execution_count": 15,
     "metadata": {},
     "output_type": "execute_result"
    }
   ],
   "source": [
    "documents[0]"
   ]
  },
  {
   "cell_type": "code",
   "execution_count": 16,
   "id": "ed8b8f7f-2750-45c0-aac4-92fdce0e8f77",
   "metadata": {},
   "outputs": [
    {
     "name": "stderr",
     "output_type": "stream",
     "text": [
      "100%|████████████████████████████████████████| 948/948 [02:18<00:00,  6.86it/s]\n"
     ]
    }
   ],
   "source": [
    "# create embeddings for the data & put it in the db\n",
    "for doc in tqdm(documents):\n",
    "    question=doc['question']\n",
    "    text=doc['text']\n",
    "    question_text= question +' '+text\n",
    "\n",
    "    doc['question_vector']= model.encode(question)\n",
    "    doc['text_vector']= model.encode(text)\n",
    "    doc['question_text_vector']= model.encode(question_text)\n",
    "\n",
    "    es_client.index(index= index_name, document=doc)"
   ]
  },
  {
   "cell_type": "code",
   "execution_count": 18,
   "id": "00b3eaaa-29fd-4e77-a4e9-962d6042dffd",
   "metadata": {},
   "outputs": [],
   "source": [
    "query = 'I just discovered the course, can i still join it?'\n",
    "query_embeddings= model.encode(query)"
   ]
  },
  {
   "cell_type": "code",
   "execution_count": 24,
   "id": "2833a29d-827f-4a87-8af1-90e2746b66f6",
   "metadata": {},
   "outputs": [],
   "source": [
    "# construct search query\n",
    "query ={\n",
    "    \"field\": \"question_vector\", \n",
    "    \"query_vector\": query_embeddings,\n",
    "    \"k\":5,\n",
    "    \"num_candidates\":10000,\n",
    "    \"filter\":{\n",
    "        \"term\":{\n",
    "            \"course\":\"data-engineering-zoomcamp\"\n",
    "        }\n",
    "    }\n",
    "}"
   ]
  },
  {
   "cell_type": "code",
   "execution_count": 25,
   "id": "feabcb32-a4bf-45f3-bf2d-3bbefd806ed5",
   "metadata": {},
   "outputs": [],
   "source": [
    "res=es_client.search(index= index_name , knn=query ,\n",
    "                     source=[\"text\",\"section\", \"question\",\"course\", \"id\"])"
   ]
  },
  {
   "cell_type": "code",
   "execution_count": 26,
   "id": "b7cefbce-8fb0-4b21-8915-80366a1d7fdd",
   "metadata": {},
   "outputs": [
    {
     "data": {
      "text/plain": [
       "[{'_index': 'course-questions',\n",
       "  '_id': 'el2MtJABJzd8G14Cn8T_',\n",
       "  '_score': 0.8980063,\n",
       "  '_source': {'question': 'Course - Can I still join the course after the start date?',\n",
       "   'course': 'data-engineering-zoomcamp',\n",
       "   'section': 'General course-related questions',\n",
       "   'text': \"Yes, even if you don't register, you're still eligible to submit the homeworks.\\nBe aware, however, that there will be deadlines for turning in the final projects. So don't leave everything for the last minute.\",\n",
       "   'id': '7842b56a'}},\n",
       " {'_index': 'course-questions',\n",
       "  '_id': 'f12MtJABJzd8G14CosRF',\n",
       "  '_score': 0.85993636,\n",
       "  '_source': {'question': 'Course - Can I follow the course after it finishes?',\n",
       "   'course': 'data-engineering-zoomcamp',\n",
       "   'section': 'General course-related questions',\n",
       "   'text': 'Yes, we will keep all the materials after the course finishes, so you can follow the course at your own pace after it finishes.\\nYou can also continue looking at the homeworks and continue preparing for the next cohort. I guess you can also start working on your final capstone project.',\n",
       "   'id': 'a482086d'}},\n",
       " {'_index': 'course-questions',\n",
       "  '_id': 'ml2MtJABJzd8G14CrcTL',\n",
       "  '_score': 0.8136265,\n",
       "  '_source': {'question': 'How can we contribute to the course?',\n",
       "   'course': 'data-engineering-zoomcamp',\n",
       "   'section': 'General course-related questions',\n",
       "   'text': 'Star the repo! Share it with friends if you find it useful ❣️\\nCreate a PR if you see you can improve the text or the structure of the repository.',\n",
       "   'id': '2f19301f'}},\n",
       " {'_index': 'course-questions',\n",
       "  '_id': 'fF2MtJABJzd8G14CoMT2',\n",
       "  '_score': 0.80968636,\n",
       "  '_source': {'question': 'Course - What can I do before the course starts?',\n",
       "   'course': 'data-engineering-zoomcamp',\n",
       "   'section': 'General course-related questions',\n",
       "   'text': 'You can start by installing and setting up all the dependencies and requirements:\\nGoogle cloud account\\nGoogle Cloud SDK\\nPython 3 (installed with Anaconda)\\nTerraform\\nGit\\nLook over the prerequisites and syllabus to see if you are comfortable with these subjects.',\n",
       "   'id': '63394d91'}},\n",
       " {'_index': 'course-questions',\n",
       "  '_id': 'gF2MtJABJzd8G14CosS1',\n",
       "  '_score': 0.801345,\n",
       "  '_source': {'question': 'Course - Can I get support if I take the course in the self-paced mode?',\n",
       "   'course': 'data-engineering-zoomcamp',\n",
       "   'section': 'General course-related questions',\n",
       "   'text': 'Yes, the slack channel remains open and you can ask questions there. But always sDocker containers exit code w search the channel first and second, check the FAQ (this document), most likely all your questions are already answered here.\\nYou can also tag the bot @ZoomcampQABot to help you conduct the search, but don’t rely on its answers 100%, it is pretty good though.',\n",
       "   'id': 'eb56ae98'}}]"
      ]
     },
     "execution_count": 26,
     "metadata": {},
     "output_type": "execute_result"
    }
   ],
   "source": [
    "res['hits']['hits']"
   ]
  },
  {
   "cell_type": "code",
   "execution_count": 32,
   "id": "d9db6a41-097a-456f-8441-c2e6e0cbeb78",
   "metadata": {},
   "outputs": [],
   "source": [
    "## Let's make the above code generic to the field \n",
    "\n",
    "def elastic_search_knn(field,vector,course):\n",
    "    query ={\n",
    "        \"field\": field, \n",
    "        \"query_vector\": vector,\n",
    "        \"k\":5,\n",
    "        \"num_candidates\":10000,\n",
    "        \"filter\":{\n",
    "            \"term\":{\n",
    "                \"course\":course\n",
    "            }\n",
    "        }\n",
    "    }\n",
    "\n",
    "    res=es_client.search(index= index_name , knn=query ,\n",
    "                     source=[\"text\",\"section\", \"question\",\"course\", \"id\"])\n",
    "\n",
    "    res_doc=[]\n",
    "    for hit in res['hits']['hits']:\n",
    "        res_doc.append(hit['_source'])\n",
    "\n",
    "    return res_doc"
   ]
  },
  {
   "cell_type": "markdown",
   "id": "eef9fba9-766f-4947-8d39-fa00084e8043",
   "metadata": {},
   "source": [
    "### 1. Evaluate & Search based on question field"
   ]
  },
  {
   "cell_type": "code",
   "execution_count": 48,
   "id": "ae80fc5c-a2d9-4575-9e45-f4b53c65487e",
   "metadata": {},
   "outputs": [],
   "source": [
    "def question_vector_knn(q,field):\n",
    "    question = q['question']\n",
    "    course= q['course']\n",
    "\n",
    "    embeddings= model.encode(question)\n",
    "    return elastic_search_knn(field=field, \n",
    "                   vector= embeddings,\n",
    "                   course=course)"
   ]
  },
  {
   "cell_type": "code",
   "execution_count": 49,
   "id": "4f942df8-f0fe-4589-97ef-f71f7f188a2a",
   "metadata": {},
   "outputs": [],
   "source": [
    "def hit_rate(relevance_total):\n",
    "    cnt = 0\n",
    "\n",
    "    for line in relevance_total:\n",
    "        if True in line:\n",
    "            cnt = cnt + 1\n",
    "\n",
    "    return cnt / len(relevance_total)"
   ]
  },
  {
   "cell_type": "code",
   "execution_count": 50,
   "id": "91075c0a-7c33-40eb-b59f-a941f3a1b241",
   "metadata": {},
   "outputs": [],
   "source": [
    "def mrr(relevance_total):\n",
    "    total_score = 0.0\n",
    "\n",
    "    for line in relevance_total:\n",
    "        for rank in range(len(line)):\n",
    "            if line[rank] == True:\n",
    "                total_score = total_score + 1 / (rank + 1)\n",
    "\n",
    "    return total_score / len(relevance_total)"
   ]
  },
  {
   "cell_type": "code",
   "execution_count": 51,
   "id": "430e24db-c749-45ba-b713-d6ef218b747c",
   "metadata": {},
   "outputs": [],
   "source": [
    "def evaluate(ground_truth, search_function,field):\n",
    "    relevance_total = []\n",
    "\n",
    "    for q in tqdm(ground_truth):\n",
    "        doc_id = q['document']\n",
    "        results = search_function(q,field)\n",
    "        relevance = [d['id'] == doc_id for d in results]\n",
    "        relevance_total.append(relevance)\n",
    "\n",
    "    return {\n",
    "        'hit_rate': hit_rate(relevance_total),\n",
    "        'mrr': mrr(relevance_total),\n",
    "    }"
   ]
  },
  {
   "cell_type": "code",
   "execution_count": 52,
   "id": "423bc9f7-1cac-4f1e-b181-30c70165f34d",
   "metadata": {},
   "outputs": [],
   "source": [
    "df_ground_truth=pd.read_csv('ground-truth-data.csv')\n",
    "ground_truth=df_ground_truth.to_dict(orient='records')"
   ]
  },
  {
   "cell_type": "code",
   "execution_count": 53,
   "id": "13f782c4-6f21-49cf-89ce-b7fcdcc57322",
   "metadata": {},
   "outputs": [
    {
     "name": "stderr",
     "output_type": "stream",
     "text": [
      "100%|██████████████████████████████████████| 4627/4627 [01:39<00:00, 46.59it/s]\n"
     ]
    },
    {
     "data": {
      "text/plain": [
       "{'hit_rate': 0.773071104387292, 'mrr': 0.6666810748505158}"
      ]
     },
     "execution_count": 53,
     "metadata": {},
     "output_type": "execute_result"
    }
   ],
   "source": [
    "evaluate(ground_truth , question_vector_knn,'question_vector')"
   ]
  },
  {
   "cell_type": "code",
   "execution_count": 54,
   "id": "ce9509e1-6d70-41b6-a723-8679c0240dd8",
   "metadata": {},
   "outputs": [
    {
     "name": "stderr",
     "output_type": "stream",
     "text": [
      "100%|██████████████████████████████████████| 4627/4627 [01:35<00:00, 48.41it/s]\n"
     ]
    },
    {
     "data": {
      "text/plain": [
       "{'hit_rate': 0.8286146531229739, 'mrr': 0.7062315395144454}"
      ]
     },
     "execution_count": 54,
     "metadata": {},
     "output_type": "execute_result"
    }
   ],
   "source": [
    "evaluate(ground_truth , question_vector_knn,'text_vector')"
   ]
  },
  {
   "cell_type": "code",
   "execution_count": 55,
   "id": "2ac0b7a6-aacd-4af7-b284-495ecfc101c0",
   "metadata": {},
   "outputs": [
    {
     "name": "stderr",
     "output_type": "stream",
     "text": [
      "100%|██████████████████████████████████████| 4627/4627 [01:35<00:00, 48.46it/s]\n"
     ]
    },
    {
     "data": {
      "text/plain": [
       "{'hit_rate': 0.9172249837907932, 'mrr': 0.824306606152295}"
      ]
     },
     "execution_count": 55,
     "metadata": {},
     "output_type": "execute_result"
    }
   ],
   "source": [
    "evaluate(ground_truth , question_vector_knn,'question_text_vector')"
   ]
  },
  {
   "cell_type": "code",
   "execution_count": 57,
   "id": "26f9822c-c3d5-4082-aee3-a8c5352be60c",
   "metadata": {},
   "outputs": [],
   "source": [
    "# Just good to know that there is also a way to emphasize\n",
    "# which parameter to give more weight to while searching\n",
    "\n",
    "def elastic_search_knn_combined(vector, course):\n",
    "    search_query = {\n",
    "        \"size\": 5,\n",
    "        \"query\": {\n",
    "            \"bool\": {\n",
    "                \"must\": [\n",
    "                    {\n",
    "                        \"script_score\": {\n",
    "                            \"query\": {\n",
    "                                \"term\": {\n",
    "                                    \"course\": course\n",
    "                                }\n",
    "                            },\n",
    "                            \"script\": {\n",
    "                                \"source\": \"\"\"\n",
    "                                    cosineSimilarity(params.query_vector, 'question_vector') + \n",
    "                                    cosineSimilarity(params.query_vector, 'text_vector') + \n",
    "                                    cosineSimilarity(params.query_vector, 'question_text_vector') + \n",
    "                                    1\n",
    "                                \"\"\",\n",
    "                                \"params\": {\n",
    "                                    \"query_vector\": vector\n",
    "                                }\n",
    "                            }\n",
    "                        }\n",
    "                    }\n",
    "                ],\n",
    "                \"filter\": {\n",
    "                    \"term\": {\n",
    "                        \"course\": course\n",
    "                    }\n",
    "                }\n",
    "            }\n",
    "        },\n",
    "        \"_source\": [\"text\", \"section\", \"question\", \"course\", \"id\"]\n",
    "    }\n",
    "\n",
    "    es_results = es_client.search(\n",
    "        index=index_name,\n",
    "        body=search_query\n",
    "    )\n",
    "    \n",
    "    result_docs = []\n",
    "    \n",
    "    for hit in es_results['hits']['hits']:\n",
    "        result_docs.append(hit['_source'])\n",
    "\n",
    "    return result_docs"
   ]
  }
 ],
 "metadata": {
  "kernelspec": {
   "display_name": "Python 3 (ipykernel)",
   "language": "python",
   "name": "python3"
  },
  "language_info": {
   "codemirror_mode": {
    "name": "ipython",
    "version": 3
   },
   "file_extension": ".py",
   "mimetype": "text/x-python",
   "name": "python",
   "nbconvert_exporter": "python",
   "pygments_lexer": "ipython3",
   "version": "3.10.13"
  }
 },
 "nbformat": 4,
 "nbformat_minor": 5
}
