{
 "cells": [
  {
   "cell_type": "code",
   "execution_count": 29,
   "id": "88a8b68f-432c-44c8-9c5e-b4aa039dbecb",
   "metadata": {},
   "outputs": [],
   "source": [
    "# !pip install elasticsearch\n",
    "# !pip install tiktoken"
   ]
  },
  {
   "cell_type": "code",
   "execution_count": 30,
   "id": "257aa251-d14b-491d-bc52-1db9e1173367",
   "metadata": {},
   "outputs": [],
   "source": [
    "import requests \n",
    "from elasticsearch import Elasticsearch\n",
    "from tqdm.auto import tqdm\n",
    "import tiktoken"
   ]
  },
  {
   "cell_type": "code",
   "execution_count": 2,
   "id": "bd302de0-cf18-48ba-a49e-e62b0ef55c1b",
   "metadata": {},
   "outputs": [
    {
     "name": "stdout",
     "output_type": "stream",
     "text": [
      "{\n",
      "  \"name\" : \"44705cc2e00c\",\n",
      "  \"cluster_name\" : \"docker-cluster\",\n",
      "  \"cluster_uuid\" : \"QKOnGrGpSIa__8vctvaiIw\",\n",
      "  \"version\" : {\n",
      "    \"number\" : \"8.4.3\",\n",
      "    \"build_flavor\" : \"default\",\n",
      "    \"build_type\" : \"docker\",\n",
      "    \"build_hash\" : \"42f05b9372a9a4a470db3b52817899b99a76ee73\",\n",
      "    \"build_date\" : \"2022-10-04T07:17:24.662462378Z\",\n",
      "    \"build_snapshot\" : false,\n",
      "    \"lucene_version\" : \"9.3.0\",\n",
      "    \"minimum_wire_compatibility_version\" : \"7.17.0\",\n",
      "    \"minimum_index_compatibility_version\" : \"7.0.0\"\n",
      "  },\n",
      "  \"tagline\" : \"You Know, for Search\"\n",
      "}\n"
     ]
    }
   ],
   "source": [
    "!curl localhost:9200"
   ]
  },
  {
   "cell_type": "code",
   "execution_count": 3,
   "id": "7ae81767-27cd-44e7-b919-539a7fa63826",
   "metadata": {},
   "outputs": [],
   "source": [
    "docs_url = 'https://github.com/DataTalksClub/llm-zoomcamp/blob/main/01-intro/documents.json?raw=1'\n",
    "docs_response = requests.get(docs_url)\n",
    "documents_raw = docs_response.json()\n",
    "\n",
    "documents = []\n",
    "\n",
    "for course in documents_raw:\n",
    "    course_name = course['course']\n",
    "\n",
    "    for doc in course['documents']:\n",
    "        doc['course'] = course_name\n",
    "        documents.append(doc)"
   ]
  },
  {
   "cell_type": "code",
   "execution_count": 4,
   "id": "e41e1734-be78-476d-bb25-0a8fad7981fc",
   "metadata": {},
   "outputs": [
    {
     "data": {
      "text/plain": [
       "ObjectApiResponse({'name': '44705cc2e00c', 'cluster_name': 'docker-cluster', 'cluster_uuid': 'QKOnGrGpSIa__8vctvaiIw', 'version': {'number': '8.4.3', 'build_flavor': 'default', 'build_type': 'docker', 'build_hash': '42f05b9372a9a4a470db3b52817899b99a76ee73', 'build_date': '2022-10-04T07:17:24.662462378Z', 'build_snapshot': False, 'lucene_version': '9.3.0', 'minimum_wire_compatibility_version': '7.17.0', 'minimum_index_compatibility_version': '7.0.0'}, 'tagline': 'You Know, for Search'})"
      ]
     },
     "execution_count": 4,
     "metadata": {},
     "output_type": "execute_result"
    }
   ],
   "source": [
    "url='http://localhost:9200'\n",
    "es_client = Elasticsearch(url)\n",
    "es_client.info()"
   ]
  },
  {
   "cell_type": "code",
   "execution_count": 10,
   "id": "41173cb4-c440-483e-bed6-52cf9e04a79e",
   "metadata": {},
   "outputs": [],
   "source": [
    "# !curl -XGET 'localhost:9200/course-questions?pretty'"
   ]
  },
  {
   "cell_type": "code",
   "execution_count": 5,
   "id": "500906d8-735d-46d0-9bfc-f2318cc06ee4",
   "metadata": {},
   "outputs": [
    {
     "data": {
      "text/plain": [
       "ObjectApiResponse({'acknowledged': True, 'shards_acknowledged': True, 'index': 'course_questions'})"
      ]
     },
     "execution_count": 5,
     "metadata": {},
     "output_type": "execute_result"
    }
   ],
   "source": [
    "index_settings={\n",
    "    \"settings\": {\n",
    "        \"number_of_shards\": 1,\n",
    "        \"number_of_replicas\": 0\n",
    "    },\n",
    "    \"mappings\": {\n",
    "        \"properties\": {\n",
    "            \"text\": {\"type\": \"text\"},\n",
    "            \"section\": {\"type\": \"text\"},\n",
    "            \"question\": {\"type\": \"text\"},\n",
    "            \"course\": {\"type\": \"keyword\"} \n",
    "        }\n",
    "    }\n",
    "}\n",
    "index_name = 'course_questions'\n",
    "es_client.indices.create(index=index_name , body= index_settings)"
   ]
  },
  {
   "cell_type": "code",
   "execution_count": 6,
   "id": "343b9278-5713-4726-8aab-5074d284d2bb",
   "metadata": {},
   "outputs": [
    {
     "name": "stderr",
     "output_type": "stream",
     "text": [
      "100%|█████████████████████| 948/948 [00:22<00:00, 43.04it/s]\n"
     ]
    }
   ],
   "source": [
    "for doc in tqdm(documents):\n",
    "    es_client.index(index= index_name, document=doc)"
   ]
  },
  {
   "cell_type": "code",
   "execution_count": 10,
   "id": "c437b45e-c6bb-4e9b-bbfa-17fe36575ddf",
   "metadata": {},
   "outputs": [],
   "source": [
    "query= \"How do I execute a command in a running docker container?\""
   ]
  },
  {
   "cell_type": "code",
   "execution_count": 11,
   "id": "40eb74c9-6f07-4aab-b169-47e1750e267a",
   "metadata": {},
   "outputs": [],
   "source": [
    "def elastic_search(query):\n",
    "    search_query ={\n",
    "        \"size\": 3,\n",
    "        \"query\": {\n",
    "            \"bool\": {\n",
    "                \"must\": {\n",
    "                    \"multi_match\": {\n",
    "                        \"query\": query,\n",
    "                        \"fields\": [\"question^4\", \"text\"],\n",
    "                        \"type\": \"best_fields\"\n",
    "                    }\n",
    "                },\n",
    "                \"filter\": {\n",
    "                    \"term\": {\n",
    "                        \"course\": \"machine-learning-zoomcamp\"\n",
    "                    }\n",
    "                }\n",
    "            }\n",
    "        }\n",
    "    }\n",
    "    \n",
    "    response=es_client.search(index=index_name,body=search_query)\n",
    "    result_docs=[]\n",
    "    for hit in response['hits']['hits']:\n",
    "        result_docs.append(hit['_source'])\n",
    "    return result_docs"
   ]
  },
  {
   "cell_type": "code",
   "execution_count": 22,
   "id": "2c2415f7-8721-4ea4-8e71-b7097b932e30",
   "metadata": {},
   "outputs": [],
   "source": [
    "def build_prompt(query, search_results):\n",
    "    prompt_template = \"\"\"\n",
    "    You're a course teaching assistant. Answer the QUESTION based on the CONTEXT from the FAQ database.\n",
    "    Use only the facts from the CONTEXT when answering the QUESTION.\n",
    "    \n",
    "    QUESTION: {question}\n",
    "    \n",
    "    CONTEXT:\n",
    "    {context}\n",
    "    \"\"\".strip()\n",
    "   \n",
    "    context=\"\"\n",
    "    for doc in search_results:\n",
    "        context = context + f\"\"\"\n",
    "Q: {doc[\"question\"]}\n",
    "A: {doc[\"text\"]}\n",
    "\"\"\".strip()\n",
    "\n",
    "    prompt = prompt_template.format(question=query, context=context).strip()\n",
    "    return prompt"
   ]
  },
  {
   "cell_type": "code",
   "execution_count": 23,
   "id": "efc28e41-f287-48f2-99cf-518d8e76e234",
   "metadata": {},
   "outputs": [],
   "source": [
    "context=elastic_search(query)"
   ]
  },
  {
   "cell_type": "code",
   "execution_count": 15,
   "id": "e45c5beb-85a4-4077-ac9d-5eed1e124ae6",
   "metadata": {},
   "outputs": [
    {
     "name": "stdout",
     "output_type": "stream",
     "text": [
      "[{'text': 'Launch the container image in interactive mode and overriding the entrypoint, so that it starts a bash command.\\ndocker run -it --entrypoint bash <image>\\nIf the container is already running, execute a command in the specific container:\\ndocker ps (find the container-id)\\ndocker exec -it <container-id> bash\\n(Marcos MJD)', 'section': '5. Deploying Machine Learning Models', 'question': 'How do I debug a docker container?', 'course': 'machine-learning-zoomcamp'}, {'text': \"You can copy files from your local machine into a Docker container using the docker cp command. Here's how to do it:\\nTo copy a file or directory from your local machine into a running Docker container, you can use the `docker cp command`. The basic syntax is as follows:\\ndocker cp /path/to/local/file_or_directory container_id:/path/in/container\\nHrithik Kumar Advani\", 'section': '5. Deploying Machine Learning Models', 'question': 'How do I copy files from my local machine to docker container?', 'course': 'machine-learning-zoomcamp'}, {'text': 'You can copy files from your local machine into a Docker container using the docker cp command. Here\\'s how to do it:\\nIn the Dockerfile, you can provide the folder containing the files that you want to copy over. The basic syntax is as follows:\\nCOPY [\"src/predict.py\", \"models/xgb_model.bin\", \"./\"]\\t\\t\\t\\t\\t\\t\\t\\t\\t\\t\\tGopakumar Gopinathan', 'section': '5. Deploying Machine Learning Models', 'question': 'How do I copy files from a different folder into docker container’s working directory?', 'course': 'machine-learning-zoomcamp'}]\n"
     ]
    }
   ],
   "source": []
  },
  {
   "cell_type": "code",
   "execution_count": 24,
   "id": "ac5bc5ca-4d8e-45e8-a863-9d39a2aaa4ba",
   "metadata": {},
   "outputs": [],
   "source": [
    "prompt=build_prompt(query, context)"
   ]
  },
  {
   "cell_type": "code",
   "execution_count": 25,
   "id": "29496660-d48c-46bd-acc8-c5e6e3e30554",
   "metadata": {},
   "outputs": [
    {
     "name": "stdout",
     "output_type": "stream",
     "text": [
      "1482\n"
     ]
    }
   ],
   "source": [
    "print(len(prompt))"
   ]
  },
  {
   "cell_type": "code",
   "execution_count": 32,
   "id": "530e236b-c94b-46bd-adb1-b96d5ca42703",
   "metadata": {},
   "outputs": [
    {
     "data": {
      "text/plain": [
       "327"
      ]
     },
     "execution_count": 32,
     "metadata": {},
     "output_type": "execute_result"
    }
   ],
   "source": [
    "encoding = tiktoken.encoding_for_model(\"gpt-4o\")\n",
    "len(encoding.encode(prompt))"
   ]
  },
  {
   "cell_type": "code",
   "execution_count": 8,
   "id": "5ba196f7-4f63-4b87-ac6a-da18d73e1168",
   "metadata": {},
   "outputs": [],
   "source": [
    "# Q1:What's the version.build_hash value?\n",
    "# A1: \"42f05b9372a9a4a470db3b52817899b99a76ee73\"\n",
    "\n",
    "# Q2:Which function do you use for adding your data to elastic?\n",
    "# A2: index\n",
    "\n",
    "# Q3:What's the score for the top ranking result?\n",
    "# A3: 74.05\n",
    "\n",
    "# Q4:What's the 3rd question returned by the search engine?\n",
    "# A4:How do I copy files from a different folder into docker container’s working directory?\n",
    "\n",
    "# Q5:What's the length of the resulting prompt?\n",
    "# A5: 1462\n",
    "\n",
    "# Q6:Use the encode function. How many tokens does our prompt have?\n",
    "# A6: 322"
   ]
  },
  {
   "cell_type": "code",
   "execution_count": null,
   "id": "f82c0b8f-3606-4f5f-819c-4a2e3e9fb1bd",
   "metadata": {},
   "outputs": [],
   "source": []
  }
 ],
 "metadata": {
  "kernelspec": {
   "display_name": "Python 3 (ipykernel)",
   "language": "python",
   "name": "python3"
  },
  "language_info": {
   "codemirror_mode": {
    "name": "ipython",
    "version": 3
   },
   "file_extension": ".py",
   "mimetype": "text/x-python",
   "name": "python",
   "nbconvert_exporter": "python",
   "pygments_lexer": "ipython3",
   "version": "3.10.13"
  }
 },
 "nbformat": 4,
 "nbformat_minor": 5
}
