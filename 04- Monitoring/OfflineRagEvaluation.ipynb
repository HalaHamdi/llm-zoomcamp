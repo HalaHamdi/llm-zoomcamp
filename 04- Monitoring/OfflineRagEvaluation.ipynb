{
 "cells": [
  {
   "cell_type": "markdown",
   "id": "70de3059-b85e-42fb-ba6e-480ff3bcf864",
   "metadata": {},
   "source": [
    "# Monitoring\n",
    "### In this module we will discuss monitoring which differs than evaluation module.\n",
    "### In this module, we evluate the entire RAG pipeline to ensure that the system works as we expect.\n",
    "### In the evaluation module, we tested only that the Retrival part is working good.\n",
    "\n",
    "## In this module we mainly conisder offline monitoring which means before production.\n",
    "\n",
    "# 1. Cosine Similarity"
   ]
  },
  {
   "cell_type": "markdown",
   "id": "e3cef805-52c9-4234-a990-281422c1e57e",
   "metadata": {},
   "source": [
    "## Load documents with IDS"
   ]
  },
  {
   "cell_type": "code",
   "execution_count": 31,
   "id": "0047f703-523f-4d92-97cf-f91cf54a2de0",
   "metadata": {},
   "outputs": [],
   "source": [
    "import requests\n",
    "import pandas as pd\n",
    "import seaborn as sns\n",
    "import matplotlib.pyplot as plt\n",
    "from tqdm import tqdm\n",
    "from openai import OpenAI\n",
    "from elasticsearch import Elasticsearch\n",
    "from sentence_transformers import SentenceTransformer"
   ]
  },
  {
   "cell_type": "code",
   "execution_count": 4,
   "id": "ba1be445-f7f6-47a4-9b2f-36e0861e7cf4",
   "metadata": {},
   "outputs": [],
   "source": [
    "# Loading the documents. remeber this was the initial dataset we have that\n",
    "# has all the \"answers\" that we used to generate 5 Qs per answer to have \n",
    "# the ground truth dataset that we evaluate upon\n",
    "base_url = 'https://github.com/DataTalksClub/llm-zoomcamp/blob/main'\n",
    "relative_url = '03-vector-search/eval/documents-with-ids.json'\n",
    "docs_url = f'{base_url}/{relative_url}?raw=1'\n",
    "docs_response = requests.get(docs_url)\n",
    "documents = docs_response.json()"
   ]
  },
  {
   "cell_type": "code",
   "execution_count": 5,
   "id": "d6b8d9ef-778d-46e6-9cb8-a1233c975980",
   "metadata": {},
   "outputs": [
    {
     "data": {
      "text/plain": [
       "{'text': 'It depends on your background and previous experience with modules. It is expected to require about 5 - 15 hours per week. [source1] [source2]\\nYou can also calculate it yourself using this data and then update this answer.',\n",
       " 'section': 'General course-related questions',\n",
       " 'question': 'Course - \\u200b\\u200bHow many hours per week am I expected to spend on this  course?',\n",
       " 'course': 'data-engineering-zoomcamp',\n",
       " 'id': 'ea739c65'}"
      ]
     },
     "execution_count": 5,
     "metadata": {},
     "output_type": "execute_result"
    }
   ],
   "source": [
    "documents[10]"
   ]
  },
  {
   "cell_type": "markdown",
   "id": "f6c79364-79fe-4bfd-a3dc-f36e7b3ae481",
   "metadata": {},
   "source": [
    "## Load ground truth dataset"
   ]
  },
  {
   "cell_type": "code",
   "execution_count": 6,
   "id": "9387ff50-4ca8-4559-bf3d-a789dba01e03",
   "metadata": {},
   "outputs": [],
   "source": [
    "base_url = 'https://github.com/DataTalksClub/llm-zoomcamp/blob/main'\n",
    "relative_url = '03-vector-search/eval/ground-truth-data.csv'\n",
    "ground_truth_url = f'{base_url}/{relative_url}?raw=1'\n",
    "\n",
    "df_ground_truth = pd.read_csv(ground_truth_url)\n",
    "df_ground_truth = df_ground_truth[df_ground_truth.course == 'machine-learning-zoomcamp']\n",
    "ground_truth = df_ground_truth.to_dict(orient='records')"
   ]
  },
  {
   "cell_type": "code",
   "execution_count": 7,
   "id": "821445a9-115a-4a53-b351-e9a6c899fd2f",
   "metadata": {},
   "outputs": [
    {
     "data": {
      "text/plain": [
       "{'question': 'Are sessions recorded if I miss one?',\n",
       " 'course': 'machine-learning-zoomcamp',\n",
       " 'document': '5170565b'}"
      ]
     },
     "execution_count": 7,
     "metadata": {},
     "output_type": "execute_result"
    }
   ],
   "source": [
    "ground_truth[10]"
   ]
  },
  {
   "cell_type": "code",
   "execution_count": 8,
   "id": "917155d8-a421-4570-ba4a-9f3daab4a3f1",
   "metadata": {},
   "outputs": [
    {
     "data": {
      "text/plain": [
       "'Everything is recorded, so you won’t miss anything. You will be able to ask your questions for office hours in advance and we will cover them during the live stream. Also, you can always ask questions in Slack.'"
      ]
     },
     "execution_count": 8,
     "metadata": {},
     "output_type": "execute_result"
    }
   ],
   "source": [
    "# for the documents data (not the ground truth) we are generating a dic\n",
    "# id:doc\n",
    "doc_idx= {doc['id']: doc for doc in documents}\n",
    "doc_idx['5170565b']['text'] # the answer"
   ]
  },
  {
   "cell_type": "markdown",
   "id": "d73e37f1-ace1-4d0d-a4d1-688c23073a5c",
   "metadata": {},
   "source": [
    "## Index the data\n",
    "\n",
    "Run this command in your terminal to set up elastic search in docker to help us connect to elastic search locally:\n",
    "\n",
    "docker run -it \\\n",
    "  --rm \\\n",
    "  --name elasticsearch \\\n",
    "  -p 9200:9200 \\\n",
    "  -p 9300:9300 \\\n",
    "  -e \"discovery.type=single-node\" \\\n",
    "  -e \"xpack.security.enabled=false\" \\\n",
    "  docker.elastic.co/elasticsearch/elasticsearch:8.4.3"
   ]
  },
  {
   "cell_type": "code",
   "execution_count": 9,
   "id": "ded215f9-62ba-423d-acc4-07611fe8bf0b",
   "metadata": {},
   "outputs": [],
   "source": [
    "# Initalize the embedding model\n",
    "model_name ='multi-qa-MiniLM-L6-cos-v1'\n",
    "model = SentenceTransformer(model_name)"
   ]
  },
  {
   "cell_type": "code",
   "execution_count": 10,
   "id": "1cc34de7-9a7f-4f73-b62d-c8624e16821a",
   "metadata": {},
   "outputs": [],
   "source": [
    "# Initalize the vector DB\n",
    "es_client= Elasticsearch('http://localhost:9200')"
   ]
  },
  {
   "cell_type": "code",
   "execution_count": 11,
   "id": "ea838e89-a4bd-4573-b206-dc933a51c787",
   "metadata": {},
   "outputs": [],
   "source": [
    "# set the mapping\n",
    "index_settings= {\n",
    "    \"settings\":{\n",
    "        \"number_of_shards\":1,\n",
    "        \"number_of_replicas\":0\n",
    "    },\n",
    "    \"mappings\":{\n",
    "        \"properties\":{\n",
    "            \"text\":{\"type\":\"text\"},\n",
    "            \"section\":{\"type\":\"text\"},\n",
    "            \"question\":{\"type\":\"text\"},\n",
    "            \"course\":{\"type\":\"keyword\"},\n",
    "            \"id\":{\"type\":\"keyword\"},\n",
    "            \"question_text_vector\":{\"type\":\"dense_vector\",\n",
    "                          \"dims\":384,\n",
    "                          \"index\":True,\n",
    "                          \"similarity\":\"cosine\"},\n",
    "        }\n",
    "    }  \n",
    "}"
   ]
  },
  {
   "cell_type": "code",
   "execution_count": 13,
   "id": "9c4b338e-9971-4299-8955-f31b1e0a2e2c",
   "metadata": {},
   "outputs": [
    {
     "data": {
      "text/plain": [
       "ObjectApiResponse({'acknowledged': True, 'shards_acknowledged': True, 'index': 'course-questions'})"
      ]
     },
     "execution_count": 13,
     "metadata": {},
     "output_type": "execute_result"
    }
   ],
   "source": [
    "# create the index after we have created the mapping \n",
    "index_name = \"course-questions\"\n",
    "es_client.indices.delete(index = index_name , ignore_unavailable=True) # delete index if it exists  \n",
    "es_client.indices.create(index = index_name , body= index_settings)"
   ]
  },
  {
   "cell_type": "code",
   "execution_count": 11,
   "id": "10cfdd53-3d17-44da-b558-5977ffb29705",
   "metadata": {},
   "outputs": [
    {
     "name": "stderr",
     "output_type": "stream",
     "text": [
      "100%|████████████████████████████████████████| 948/948 [01:16<00:00, 12.31it/s]\n"
     ]
    }
   ],
   "source": [
    "# create embeddings for the data & put it in the db\n",
    "for doc in tqdm(documents):\n",
    "    question_text= doc['question'] +' '+doc['text']\n",
    "    doc['question_text_vector']= model.encode(question_text)\n",
    "    es_client.index(index= index_name, document=doc)"
   ]
  },
  {
   "cell_type": "markdown",
   "id": "47eb0bcc-0d26-4bce-b479-740b93ffa4eb",
   "metadata": {},
   "source": [
    "## Retrieval"
   ]
  },
  {
   "cell_type": "code",
   "execution_count": 14,
   "id": "4a5d5ec5-d616-4215-92a9-899bb55b017c",
   "metadata": {},
   "outputs": [],
   "source": [
    "def elastic_search_knn(field, vector, course):\n",
    "    knn = {\n",
    "        \"field\": field,\n",
    "        \"query_vector\": vector,\n",
    "        \"k\": 5,\n",
    "        \"num_candidates\": 10000,\n",
    "        \"filter\": {\n",
    "            \"term\": {\n",
    "                \"course\": course\n",
    "            }\n",
    "        }\n",
    "    }\n",
    "\n",
    "    search_query = {\n",
    "        \"knn\": knn,\n",
    "        \"_source\": [\"text\", \"section\", \"question\", \"course\", \"id\"]\n",
    "    }\n",
    "\n",
    "    es_results = es_client.search(\n",
    "        index=index_name,\n",
    "        body=search_query\n",
    "    )\n",
    "    \n",
    "    result_docs = []\n",
    "    \n",
    "    for hit in es_results['hits']['hits']:\n",
    "        result_docs.append(hit['_source'])\n",
    "\n",
    "    return result_docs"
   ]
  },
  {
   "cell_type": "code",
   "execution_count": 15,
   "id": "befe92af-5da4-46bc-9e7f-d27e296d9d23",
   "metadata": {},
   "outputs": [],
   "source": [
    "def question_vector_knn(q,field='question_text_vector'):\n",
    "    question = q['question']\n",
    "    course= q['course']\n",
    "\n",
    "    embeddings= model.encode(question)\n",
    "    return elastic_search_knn(field=field, \n",
    "                   vector= embeddings,\n",
    "                   course=course)"
   ]
  },
  {
   "cell_type": "code",
   "execution_count": 16,
   "id": "dd44963f-0fe0-4e0a-89b1-6c027ff0a81e",
   "metadata": {},
   "outputs": [
    {
     "data": {
      "text/plain": [
       "[]"
      ]
     },
     "execution_count": 16,
     "metadata": {},
     "output_type": "execute_result"
    }
   ],
   "source": [
    "question_vector_knn(dict(\n",
    "    question='Are sessions recorded if I miss one?',\n",
    "    course='machine-learning-zoomcamp'\n",
    "))"
   ]
  },
  {
   "cell_type": "markdown",
   "id": "791aa414-d1e8-49ba-ad05-ceb554535c40",
   "metadata": {},
   "source": [
    "## RAG Flow {from module1}"
   ]
  },
  {
   "cell_type": "code",
   "execution_count": 15,
   "id": "4132ab28-467c-4ea1-b2b2-bb5ff5dfeea2",
   "metadata": {},
   "outputs": [],
   "source": [
    "def build_prompt(query, search_results):\n",
    "    prompt_template = \"\"\"\n",
    "You're a course teaching assistant. Answer the QUESTION based on the CONTEXT from the FAQ database.\n",
    "Use only the facts from the CONTEXT when answering the QUESTION.\n",
    "\n",
    "QUESTION: {question}\n",
    "\n",
    "CONTEXT: \n",
    "{context}\n",
    "\"\"\".strip()\n",
    "\n",
    "    context = \"\"\n",
    "    \n",
    "    for doc in search_results:\n",
    "        context = context + f\"section: {doc['section']}\\nquestion: {doc['question']}\\nanswer: {doc['text']}\\n\\n\"\n",
    "    \n",
    "    prompt = prompt_template.format(question=query, context=context).strip()\n",
    "    return prompt"
   ]
  },
  {
   "cell_type": "code",
   "execution_count": 16,
   "id": "9f60498e-3ffe-4cb1-8951-29e00d22cd97",
   "metadata": {},
   "outputs": [],
   "source": [
    "def llm(prompt, model='gpt-4o'):\n",
    "    response = client.chat.completions.create(\n",
    "        model=model,\n",
    "        messages=[{\"role\": \"user\", \"content\": prompt}]\n",
    "    )\n",
    "    \n",
    "    return response.choices[0].message.content"
   ]
  },
  {
   "cell_type": "code",
   "execution_count": 17,
   "id": "9ea306fa-32eb-4282-b3dc-9a9e8a0097a9",
   "metadata": {},
   "outputs": [],
   "source": [
    "# previously: rag(query: str) -> str\n",
    "def rag(query: dict, model='gpt-4o') -> str:\n",
    "    # This gets the search results that will be a context after formualtion\n",
    "    search_results = question_vector_knn(query)\n",
    "    prompt = build_prompt(query['question'], search_results)\n",
    "    answer = llm(prompt, model=model)\n",
    "    return answer"
   ]
  },
  {
   "cell_type": "code",
   "execution_count": 18,
   "id": "97b35705-a04b-4645-ac21-3f43c81282fa",
   "metadata": {},
   "outputs": [],
   "source": [
    "OPENAI_API_KEY=\"\"\n",
    "client = OpenAI(api_key=OPENAI_API_KEY)"
   ]
  },
  {
   "cell_type": "code",
   "execution_count": 19,
   "id": "c0d03e88-3d93-4039-a6d2-96b7e3afd0b8",
   "metadata": {},
   "outputs": [
    {
     "data": {
      "text/plain": [
       "{'question': 'Are sessions recorded if I miss one?',\n",
       " 'course': 'machine-learning-zoomcamp',\n",
       " 'document': '5170565b'}"
      ]
     },
     "execution_count": 19,
     "metadata": {},
     "output_type": "execute_result"
    }
   ],
   "source": [
    "ground_truth[10]"
   ]
  },
  {
   "cell_type": "code",
   "execution_count": 20,
   "id": "33526700-3f8c-4b36-9083-5ec0f11e6771",
   "metadata": {},
   "outputs": [],
   "source": [
    "rag_answ=rag(ground_truth[10])"
   ]
  },
  {
   "cell_type": "code",
   "execution_count": 21,
   "id": "08c1851a-b573-4b36-994d-f706edf860ff",
   "metadata": {},
   "outputs": [
    {
     "data": {
      "text/plain": [
       "'Yes, sessions are recorded if you miss one. You can catch up on the recorded sessions and ask questions in advance for office hours or in Slack.'"
      ]
     },
     "execution_count": 21,
     "metadata": {},
     "output_type": "execute_result"
    }
   ],
   "source": [
    "rag_answ"
   ]
  },
  {
   "cell_type": "code",
   "execution_count": 22,
   "id": "1b1c131a-ab6f-41d0-a071-9298d11b204d",
   "metadata": {},
   "outputs": [],
   "source": [
    "orginal_answ=doc_idx[\"5170565b\"][\"text\"] # the correct answer"
   ]
  },
  {
   "cell_type": "markdown",
   "id": "abd45458-5257-4873-a716-363b74933c37",
   "metadata": {},
   "source": [
    "### Cosine Similiarity"
   ]
  },
  {
   "cell_type": "code",
   "execution_count": 23,
   "id": "065b9728-8fd2-4a3f-a0e3-50c6d0e02d2e",
   "metadata": {},
   "outputs": [
    {
     "data": {
      "text/plain": [
       "0.63458365"
      ]
     },
     "execution_count": 23,
     "metadata": {},
     "output_type": "execute_result"
    }
   ],
   "source": [
    "rag_vector=model.encode(rag_answ)\n",
    "original_vector=model.encode(orginal_answ)\n",
    "rag_vector.dot(original_vector)"
   ]
  },
  {
   "cell_type": "code",
   "execution_count": 26,
   "id": "19fb91a3-5d3c-4a5f-b359-db75588c9946",
   "metadata": {},
   "outputs": [],
   "source": [
    "answers={}"
   ]
  },
  {
   "cell_type": "code",
   "execution_count": null,
   "id": "00312308-f321-4d37-b5eb-9377ed5297c4",
   "metadata": {},
   "outputs": [],
   "source": [
    "# We will now do that on the entire dataset\n",
    "# 1. we will go through the entire ground truth dataset questions \n",
    "# 2. generate answer using llm \n",
    "# 3. compute the cos sim between rag_answ & the documents that has the correct answer\n",
    "# will not run this cell as not to pay for open ai & use the one generated from the course \n",
    "# He saved it in a file called results-gpt4o.csv that we will need to load it \n",
    "# if we want to use it \n",
    "# he also generated one wfor gpt-3.5\n",
    "for i,record in enumerate(ground_truth):\n",
    "    # inorder not to recalculate it if there is any error that occurred\n",
    "    if i in answers:\n",
    "        continue \n",
    "    # answer_llm = rag(record)\n",
    "    # indexing the dictionary with the doc_id and getting the document text\n",
    "    id=record['document']\n",
    "    answer_original = doc_idx[id]['text']\n",
    "    answers[i]={\n",
    "        \"answer_llm\":answer_llm,\n",
    "        \"answer_original\":answer_original,\n",
    "        \"document\": id,\n",
    "        'question': rec['question'],\n",
    "        'course': rec['course'],\n",
    "    }"
   ]
  },
  {
   "cell_type": "markdown",
   "id": "fa6dd034-cbba-4527-ae00-c5d642218578",
   "metadata": {},
   "source": [
    "# Starting Offline Evaluation\n",
    "## GPT4O"
   ]
  },
  {
   "cell_type": "code",
   "execution_count": 17,
   "id": "d48be0ee-2558-4bf3-bccf-35550a9f745b",
   "metadata": {},
   "outputs": [],
   "source": [
    "df_gpt4o=pd.read_csv(\"data/results-gpt4o.csv\")"
   ]
  },
  {
   "cell_type": "code",
   "execution_count": 18,
   "id": "52ea8fb8-96b3-4946-bd04-0337f55aed6a",
   "metadata": {},
   "outputs": [
    {
     "data": {
      "text/html": [
       "<div>\n",
       "<style scoped>\n",
       "    .dataframe tbody tr th:only-of-type {\n",
       "        vertical-align: middle;\n",
       "    }\n",
       "\n",
       "    .dataframe tbody tr th {\n",
       "        vertical-align: top;\n",
       "    }\n",
       "\n",
       "    .dataframe thead th {\n",
       "        text-align: right;\n",
       "    }\n",
       "</style>\n",
       "<table border=\"1\" class=\"dataframe\">\n",
       "  <thead>\n",
       "    <tr style=\"text-align: right;\">\n",
       "      <th></th>\n",
       "      <th>answer_llm</th>\n",
       "      <th>answer_orig</th>\n",
       "      <th>document</th>\n",
       "      <th>question</th>\n",
       "      <th>course</th>\n",
       "    </tr>\n",
       "  </thead>\n",
       "  <tbody>\n",
       "    <tr>\n",
       "      <th>0</th>\n",
       "      <td>The CONTEXT provided does not give specific in...</td>\n",
       "      <td>Machine Learning Zoomcamp FAQ\\nThe purpose of ...</td>\n",
       "      <td>0227b872</td>\n",
       "      <td>Where can I sign up for the course?</td>\n",
       "      <td>machine-learning-zoomcamp</td>\n",
       "    </tr>\n",
       "    <tr>\n",
       "      <th>1</th>\n",
       "      <td>You can sign up for the Machine Learning Zoomc...</td>\n",
       "      <td>Machine Learning Zoomcamp FAQ\\nThe purpose of ...</td>\n",
       "      <td>0227b872</td>\n",
       "      <td>Can you provide a link to sign up?</td>\n",
       "      <td>machine-learning-zoomcamp</td>\n",
       "    </tr>\n",
       "    <tr>\n",
       "      <th>2</th>\n",
       "      <td>Yes, there is an FAQ for the Machine Learning ...</td>\n",
       "      <td>Machine Learning Zoomcamp FAQ\\nThe purpose of ...</td>\n",
       "      <td>0227b872</td>\n",
       "      <td>Is there an FAQ for this Machine Learning course?</td>\n",
       "      <td>machine-learning-zoomcamp</td>\n",
       "    </tr>\n",
       "    <tr>\n",
       "      <th>3</th>\n",
       "      <td>No, the provided context does not include any ...</td>\n",
       "      <td>Machine Learning Zoomcamp FAQ\\nThe purpose of ...</td>\n",
       "      <td>0227b872</td>\n",
       "      <td>Does this course have a GitHub repository for ...</td>\n",
       "      <td>machine-learning-zoomcamp</td>\n",
       "    </tr>\n",
       "    <tr>\n",
       "      <th>4</th>\n",
       "      <td>To structure your questions and answers for th...</td>\n",
       "      <td>Machine Learning Zoomcamp FAQ\\nThe purpose of ...</td>\n",
       "      <td>0227b872</td>\n",
       "      <td>How can I structure my questions and answers f...</td>\n",
       "      <td>machine-learning-zoomcamp</td>\n",
       "    </tr>\n",
       "  </tbody>\n",
       "</table>\n",
       "</div>"
      ],
      "text/plain": [
       "                                          answer_llm  \\\n",
       "0  The CONTEXT provided does not give specific in...   \n",
       "1  You can sign up for the Machine Learning Zoomc...   \n",
       "2  Yes, there is an FAQ for the Machine Learning ...   \n",
       "3  No, the provided context does not include any ...   \n",
       "4  To structure your questions and answers for th...   \n",
       "\n",
       "                                         answer_orig  document  \\\n",
       "0  Machine Learning Zoomcamp FAQ\\nThe purpose of ...  0227b872   \n",
       "1  Machine Learning Zoomcamp FAQ\\nThe purpose of ...  0227b872   \n",
       "2  Machine Learning Zoomcamp FAQ\\nThe purpose of ...  0227b872   \n",
       "3  Machine Learning Zoomcamp FAQ\\nThe purpose of ...  0227b872   \n",
       "4  Machine Learning Zoomcamp FAQ\\nThe purpose of ...  0227b872   \n",
       "\n",
       "                                            question  \\\n",
       "0                Where can I sign up for the course?   \n",
       "1                 Can you provide a link to sign up?   \n",
       "2  Is there an FAQ for this Machine Learning course?   \n",
       "3  Does this course have a GitHub repository for ...   \n",
       "4  How can I structure my questions and answers f...   \n",
       "\n",
       "                      course  \n",
       "0  machine-learning-zoomcamp  \n",
       "1  machine-learning-zoomcamp  \n",
       "2  machine-learning-zoomcamp  \n",
       "3  machine-learning-zoomcamp  \n",
       "4  machine-learning-zoomcamp  "
      ]
     },
     "execution_count": 18,
     "metadata": {},
     "output_type": "execute_result"
    }
   ],
   "source": [
    "df_gpt4o.head()"
   ]
  },
  {
   "cell_type": "code",
   "execution_count": 19,
   "id": "3f498b79-24de-416d-8eed-e8588ba990a1",
   "metadata": {},
   "outputs": [],
   "source": [
    "# turn it into dictionary\n",
    "results_gpt4o=df_gpt4o.to_dict(orient='records')"
   ]
  },
  {
   "cell_type": "code",
   "execution_count": 20,
   "id": "4a8f2ea4-7d08-495d-8396-c0ac751f0746",
   "metadata": {},
   "outputs": [],
   "source": [
    "def compute_cos_similarity(record):\n",
    "    answer_llm=record['answer_llm']\n",
    "    answer_orig=record['answer_orig']\n",
    "\n",
    "    v_llm=model.encode(answer_llm)\n",
    "    v_orig=model.encode(answer_orig)\n",
    "\n",
    "    return v_llm.dot(v_orig)"
   ]
  },
  {
   "cell_type": "code",
   "execution_count": 21,
   "id": "1e0ddaf9-cfab-4bf0-9602-2457a6e1acfa",
   "metadata": {},
   "outputs": [
    {
     "name": "stderr",
     "output_type": "stream",
     "text": [
      "100%|██████████████████████████████████████| 1830/1830 [02:55<00:00, 10.40it/s]\n"
     ]
    }
   ],
   "source": [
    "similarity=[]\n",
    "\n",
    "for record in tqdm(results_gpt4o):\n",
    "    sim=compute_cos_similarity(record)\n",
    "    similarity.append(sim)"
   ]
  },
  {
   "cell_type": "code",
   "execution_count": 22,
   "id": "da00f200-0dc8-4891-a45f-ff88d8109971",
   "metadata": {},
   "outputs": [],
   "source": [
    "df_gpt4o['cosine']= similarity"
   ]
  },
  {
   "cell_type": "code",
   "execution_count": 23,
   "id": "7c95534e-c768-48a7-a529-c34027850cf7",
   "metadata": {},
   "outputs": [
    {
     "data": {
      "text/plain": [
       "count    1830.000000\n",
       "mean        0.679129\n",
       "std         0.217995\n",
       "min        -0.153425\n",
       "25%         0.591460\n",
       "50%         0.734788\n",
       "75%         0.835390\n",
       "max         0.995339\n",
       "Name: cosine, dtype: float64"
      ]
     },
     "execution_count": 23,
     "metadata": {},
     "output_type": "execute_result"
    }
   ],
   "source": [
    "df_gpt4o['cosine'].describe()"
   ]
  },
  {
   "cell_type": "markdown",
   "id": "cb1355ab-8a3e-4eb4-84b0-f2ff3a88ed09",
   "metadata": {},
   "source": [
    "## GPT3.5"
   ]
  },
  {
   "cell_type": "code",
   "execution_count": 28,
   "id": "593c6947-cfbf-44a0-b6a1-638d34677da7",
   "metadata": {},
   "outputs": [
    {
     "name": "stderr",
     "output_type": "stream",
     "text": [
      "100%|█████| 1830/1830 [02:13<00:00, 13.72it/s]\n"
     ]
    }
   ],
   "source": [
    "df_gpt35=pd.read_csv(\"data/results-gpt35.csv\")\n",
    "results_gpt35=df_gpt35.to_dict(orient='records')\n",
    "\n",
    "similarity=[]\n",
    "\n",
    "for record in tqdm(results_gpt35):\n",
    "    sim=compute_cos_similarity(record)\n",
    "    similarity.append(sim)\n",
    "\n",
    "df_gpt35['cosine']= similarity"
   ]
  },
  {
   "cell_type": "code",
   "execution_count": 29,
   "id": "266687c2-f6fe-413e-8e8a-cc1f28ec8138",
   "metadata": {},
   "outputs": [
    {
     "data": {
      "text/plain": [
       "count    1830.000000\n",
       "mean        0.657599\n",
       "std         0.226062\n",
       "min        -0.168921\n",
       "25%         0.546504\n",
       "50%         0.714783\n",
       "75%         0.817262\n",
       "max         1.000000\n",
       "Name: cosine, dtype: float64"
      ]
     },
     "execution_count": 29,
     "metadata": {},
     "output_type": "execute_result"
    }
   ],
   "source": [
    "df_gpt35['cosine'].describe()"
   ]
  },
  {
   "cell_type": "markdown",
   "id": "5bdd4c2c-00e2-4f5a-b901-8674cbc8eec1",
   "metadata": {},
   "source": [
    "## GPT4.o-mini"
   ]
  },
  {
   "cell_type": "code",
   "execution_count": 35,
   "id": "ebfbf8a9-ae1c-4d81-9b59-7d5f6b17f686",
   "metadata": {},
   "outputs": [
    {
     "name": "stderr",
     "output_type": "stream",
     "text": [
      "100%|█████| 1830/1830 [02:29<00:00, 12.22it/s]\n"
     ]
    }
   ],
   "source": [
    "df_gpt4omini=pd.read_csv(\"data/results-gpt4o-mini.csv\")\n",
    "results_gpt4omini=df_gpt4omini.to_dict(orient='records')\n",
    "\n",
    "similarity=[]\n",
    "\n",
    "for record in tqdm(results_gpt4omini):\n",
    "    sim=compute_cos_similarity(record)\n",
    "    similarity.append(sim)\n",
    "\n",
    "df_gpt4omini['cosine']= similarity"
   ]
  },
  {
   "cell_type": "code",
   "execution_count": 36,
   "id": "b8dcb646-6fce-40a3-a32e-78e60446edf1",
   "metadata": {},
   "outputs": [
    {
     "data": {
      "text/plain": [
       "count    1830.000000\n",
       "mean        0.680332\n",
       "std         0.215962\n",
       "min        -0.141910\n",
       "25%         0.585866\n",
       "50%         0.733998\n",
       "75%         0.836750\n",
       "max         0.982701\n",
       "Name: cosine, dtype: float64"
      ]
     },
     "execution_count": 36,
     "metadata": {},
     "output_type": "execute_result"
    }
   ],
   "source": [
    "df_gpt4omini['cosine'].describe()"
   ]
  },
  {
   "cell_type": "code",
   "execution_count": 37,
   "id": "3a9c3e9a-3bbe-4e92-834b-74b72758d00a",
   "metadata": {},
   "outputs": [
    {
     "name": "stderr",
     "output_type": "stream",
     "text": [
      "/tmp/ipykernel_9592/525234686.py:1: UserWarning: \n",
      "\n",
      "`distplot` is a deprecated function and will be removed in seaborn v0.14.0.\n",
      "\n",
      "Please adapt your code to use either `displot` (a figure-level function with\n",
      "similar flexibility) or `histplot` (an axes-level function for histograms).\n",
      "\n",
      "For a guide to updating your code to use the new functions, please see\n",
      "https://gist.github.com/mwaskom/de44147ed2974457ad6372750bbe5751\n",
      "\n",
      "  sns.distplot(df_gpt4o['cosine'], label ='4o')\n",
      "/tmp/ipykernel_9592/525234686.py:2: UserWarning: \n",
      "\n",
      "`distplot` is a deprecated function and will be removed in seaborn v0.14.0.\n",
      "\n",
      "Please adapt your code to use either `displot` (a figure-level function with\n",
      "similar flexibility) or `histplot` (an axes-level function for histograms).\n",
      "\n",
      "For a guide to updating your code to use the new functions, please see\n",
      "https://gist.github.com/mwaskom/de44147ed2974457ad6372750bbe5751\n",
      "\n",
      "  sns.distplot(df_gpt35['cosine'], label ='3.5')\n",
      "/tmp/ipykernel_9592/525234686.py:3: UserWarning: \n",
      "\n",
      "`distplot` is a deprecated function and will be removed in seaborn v0.14.0.\n",
      "\n",
      "Please adapt your code to use either `displot` (a figure-level function with\n",
      "similar flexibility) or `histplot` (an axes-level function for histograms).\n",
      "\n",
      "For a guide to updating your code to use the new functions, please see\n",
      "https://gist.github.com/mwaskom/de44147ed2974457ad6372750bbe5751\n",
      "\n",
      "  sns.distplot(df_gpt4omini['cosine'], label ='4omini')\n"
     ]
    },
    {
     "data": {
      "text/plain": [
       "<matplotlib.legend.Legend at 0x7077e5acf3a0>"
      ]
     },
     "execution_count": 37,
     "metadata": {},
     "output_type": "execute_result"
    },
    {
     "data": {
      "image/png": "[encoded data removed]",
      "text/plain": [
       "<Figure size 640x480 with 1 Axes>"
      ]
     },
     "metadata": {},
     "output_type": "display_data"
    }
   ],
   "source": [
    "sns.distplot(df_gpt4o['cosine'], label ='4o')\n",
    "sns.distplot(df_gpt35['cosine'], label ='3.5')\n",
    "sns.distplot(df_gpt4omini['cosine'], label ='4omini')\n",
    "\n",
    "plt.legend()"
   ]
  },
  {
   "cell_type": "markdown",
   "id": "1222e2e1-a6e7-4167-9b14-7307b8085d50",
   "metadata": {},
   "source": [
    "## Some info comparing three models:\n",
    "1. gpt4o took ~10 \\\\$   & gpt3.5 took ~0.75\\\\$  &  gpt4omini took ~0.28 \\$\n",
    "2. when we ran gpt4o without parallelization it took ~3hrs , but gpt3.5 was ran threaded took ~6 mins\n",
    "3. got4omini has mean (0.68) gpt4o (0.679) , gpt3.5 ( 0.65)"
   ]
  },
  {
   "cell_type": "markdown",
   "id": "c71efa65-d748-435f-8942-102c226ce647",
   "metadata": {},
   "source": [
    "# 2. LLM as Judge\n",
    "\n",
    "Instead of computing the cos similarity, we ask an llm to tell us how good the other llm answer is to the original one.\n",
    "\n",
    "We will use two methods:\n",
    "1. we have question , original answer, llm answer\n",
    "2. we have question and llm answer\n",
    "\n",
    "option 2 can be more feasible in some scenarios and can be used in Online evaluation as well. "
   ]
  },
  {
   "cell_type": "code",
   "execution_count": 38,
   "id": "e735cfa9-99bb-4beb-b8cf-352774e8d79c",
   "metadata": {},
   "outputs": [],
   "source": [
    "prompt1_template = \"\"\"\n",
    "You are an expert evaluator for a Retrieval-Augmented Generation (RAG) system.\n",
    "Your task is to analyze the relevance of the generated answer compared to the original answer provided.\n",
    "Based on the relevance and similarity of the generated answer to the original answer, you will classify\n",
    "it as \"NON_RELEVANT\", \"PARTLY_RELEVANT\", or \"RELEVANT\".\n",
    "\n",
    "Here is the data for evaluation:\n",
    "\n",
    "Original Answer: {answer_orig}\n",
    "Generated Question: {question}\n",
    "Generated Answer: {answer_llm}\n",
    "\n",
    "Please analyze the content and context of the generated answer in relation to the original\n",
    "answer and provide your evaluation in parsable JSON without using code blocks:\n",
    "\n",
    "{{\n",
    "  \"Relevance\": \"NON_RELEVANT\" | \"PARTLY_RELEVANT\" | \"RELEVANT\",\n",
    "  \"Explanation\": \"[Provide a brief explanation for your evaluation]\"\n",
    "}}\n",
    "\"\"\".strip()\n",
    "\n",
    "prompt2_template = \"\"\"\n",
    "You are an expert evaluator for a Retrieval-Augmented Generation (RAG) system.\n",
    "Your task is to analyze the relevance of the generated answer to the given question.\n",
    "Based on the relevance of the generated answer, you will classify it\n",
    "as \"NON_RELEVANT\", \"PARTLY_RELEVANT\", or \"RELEVANT\".\n",
    "\n",
    "Here is the data for evaluation:\n",
    "\n",
    "Question: {question}\n",
    "Generated Answer: {answer_llm}\n",
    "\n",
    "Please analyze the content and context of the generated answer in relation to the question\n",
    "and provide your evaluation in parsable JSON without using code blocks:\n",
    "\n",
    "{{\n",
    "  \"Relevance\": \"NON_RELEVANT\" | \"PARTLY_RELEVANT\" | \"RELEVANT\",\n",
    "  \"Explanation\": \"[Provide a brief explanation for your evaluation]\"\n",
    "}}\n",
    "\"\"\".strip()\n"
   ]
  },
  {
   "cell_type": "code",
   "execution_count": 39,
   "id": "e88fa663-833a-47d9-a297-9e3ccb41183e",
   "metadata": {},
   "outputs": [],
   "source": [
    "# if we do not want to work on entire dataset, we can sample\n",
    "df_sample = df_gpt4omini.sample(n=150, random_state=1)\n",
    "samples = df_sample.to_dict(orient='records')"
   ]
  },
  {
   "cell_type": "code",
   "execution_count": 40,
   "id": "50eabc23-42e5-44f4-a525-e0a8ded6f6b0",
   "metadata": {},
   "outputs": [
    {
     "data": {
      "text/plain": [
       "{'answer_llm': 'The syntax for using `precision_recall_fscore_support` in Python is as follows:\\n\\n```python\\nfrom sklearn.metrics import precision_recall_fscore_support\\nprecision, recall, fscore, support = precision_recall_fscore_support(y_val, y_val_pred, zero_division=0)\\n```',\n",
       " 'answer_orig': 'Scikit-learn offers another way: precision_recall_fscore_support\\nExample:\\nfrom sklearn.metrics import precision_recall_fscore_support\\nprecision, recall, fscore, support = precision_recall_fscore_support(y_val, y_val_pred, zero_division=0)\\n(Gopakumar Gopinathan)',\n",
       " 'document': '403bbdd8',\n",
       " 'question': 'What is the syntax for using precision_recall_fscore_support in Python?',\n",
       " 'course': 'machine-learning-zoomcamp',\n",
       " 'cosine': 0.901075541973114}"
      ]
     },
     "execution_count": 40,
     "metadata": {},
     "output_type": "execute_result"
    }
   ],
   "source": [
    "record = samples[0]\n",
    "record"
   ]
  },
  {
   "cell_type": "code",
   "execution_count": 41,
   "id": "4955e385-62a8-4eea-8d8c-c841f76f0ba9",
   "metadata": {},
   "outputs": [
    {
     "name": "stdout",
     "output_type": "stream",
     "text": [
      "You are an expert evaluator for a Retrieval-Augmented Generation (RAG) system.\n",
      "Your task is to analyze the relevance of the generated answer compared to the original answer provided.\n",
      "Based on the relevance and similarity of the generated answer to the original answer, you will classify\n",
      "it as \"NON_RELEVANT\", \"PARTLY_RELEVANT\", or \"RELEVANT\".\n",
      "\n",
      "Here is the data for evaluation:\n",
      "\n",
      "Original Answer: Scikit-learn offers another way: precision_recall_fscore_support\n",
      "Example:\n",
      "from sklearn.metrics import precision_recall_fscore_support\n",
      "precision, recall, fscore, support = precision_recall_fscore_support(y_val, y_val_pred, zero_division=0)\n",
      "(Gopakumar Gopinathan)\n",
      "Generated Question: What is the syntax for using precision_recall_fscore_support in Python?\n",
      "Generated Answer: The syntax for using `precision_recall_fscore_support` in Python is as follows:\n",
      "\n",
      "```python\n",
      "from sklearn.metrics import precision_recall_fscore_support\n",
      "precision, recall, fscore, support = precision_recall_fscore_support(y_val, y_val_pred, zero_division=0)\n",
      "```\n",
      "\n",
      "Please analyze the content and context of the generated answer in relation to the original\n",
      "answer and provide your evaluation in parsable JSON without using code blocks:\n",
      "\n",
      "{\n",
      "  \"Relevance\": \"NON_RELEVANT\" | \"PARTLY_RELEVANT\" | \"RELEVANT\",\n",
      "  \"Explanation\": \"[Provide a brief explanation for your evaluation]\"\n",
      "}\n"
     ]
    }
   ],
   "source": [
    "prompt = prompt1_template.format(**record)\n",
    "print(prompt)"
   ]
  },
  {
   "cell_type": "code",
   "execution_count": null,
   "id": "9b8673e6-9f79-4da5-8be6-90c30ca3d4c6",
   "metadata": {},
   "outputs": [],
   "source": [
    "answer = llm(prompt, model='gpt-4o-mini')"
   ]
  },
  {
   "cell_type": "code",
   "execution_count": null,
   "id": "866227cd-6def-472b-9749-37adb86bc80d",
   "metadata": {},
   "outputs": [],
   "source": [
    "# for the enitre sampled dataset.\n",
    "# will not run it but instead use the generated file from the course\n",
    "evaluations = []\n",
    "\n",
    "for record in tqdm(samples):\n",
    "    prompt = prompt1_template.format(**record)\n",
    "    evaluation = llm(prompt, model='gpt-4o-mini')\n",
    "    evaluations.append(evaluation)\n",
    "\n",
    "json_evaluations = []\n",
    "\n",
    "for i, str_eval in enumerate(evaluations):\n",
    "    json_eval = json.loads(str_eval) # parses the JSON string into a Python dictionary using \n",
    "    json_evaluations.append(json_eval)"
   ]
  },
  {
   "cell_type": "code",
   "execution_count": null,
   "id": "d4c1dbad-392d-4c51-9624-f91fd24aeb0a",
   "metadata": {},
   "outputs": [],
   "source": []
  }
 ],
 "metadata": {
  "kernelspec": {
   "display_name": "Python 3 (ipykernel)",
   "language": "python",
   "name": "python3"
  },
  "language_info": {
   "codemirror_mode": {
    "name": "ipython",
    "version": 3
   },
   "file_extension": ".py",
   "mimetype": "text/x-python",
   "name": "python",
   "nbconvert_exporter": "python",
   "pygments_lexer": "ipython3",
   "version": "3.10.13"
  }
 },
 "nbformat": 4,
 "nbformat_minor": 5
}
